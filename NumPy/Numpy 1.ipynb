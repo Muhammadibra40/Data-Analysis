{
 "cells": [
  {
   "cell_type": "markdown",
   "metadata": {},
   "source": [
    "# Numpy "
   ]
  },
  {
   "cell_type": "code",
   "execution_count": 1,
   "metadata": {},
   "outputs": [],
   "source": [
    "import numpy as np\n",
    "# install  :    pip install numpy         (for any device)\n",
    "# install :     conda install numpy    only for anaconda   "
   ]
  },
  {
   "cell_type": "markdown",
   "metadata": {},
   "source": [
    " #                        How to create a numpy 1D array?\n"
   ]
  },
  {
   "cell_type": "code",
   "execution_count": 4,
   "metadata": {},
   "outputs": [
    {
     "name": "stdout",
     "output_type": "stream",
     "text": [
      "x =  [1 2 3 4 5]\n",
      "<class 'numpy.ndarray'>\n"
     ]
    }
   ],
   "source": [
    "# We import NumPy into Python\n",
    "import numpy as np\n",
    "\n",
    "# We create a 1D ndarray that contains only integers\n",
    "x = np.array([1, 2, 3, 4, 5])\n",
    "\n",
    "# Let's print the ndarray we just created using the print() command\n",
    "print('x = ', x)\n",
    "print(type(x))"
   ]
  },
  {
   "cell_type": "code",
   "execution_count": 5,
   "metadata": {},
   "outputs": [
    {
     "name": "stdout",
     "output_type": "stream",
     "text": [
      "The elements in x are of type: int32\n"
     ]
    }
   ],
   "source": [
    "\n",
    "print('The elements in x are of type:', x.dtype)"
   ]
  },
  {
   "cell_type": "code",
   "execution_count": 6,
   "metadata": {},
   "outputs": [
    {
     "name": "stdout",
     "output_type": "stream",
     "text": [
      "x has dimensions: (5,)\n"
     ]
    }
   ],
   "source": [
    "print('x has dimensions:', x.shape)#the output is a tuple from one element"
   ]
  },
  {
   "cell_type": "markdown",
   "metadata": {},
   "source": [
    "# How to create a numpy 2D array?"
   ]
  },
  {
   "cell_type": "code",
   "execution_count": 7,
   "metadata": {},
   "outputs": [
    {
     "name": "stdout",
     "output_type": "stream",
     "text": [
      "\n",
      "Y = \n",
      " [[ 1  2  3]\n",
      " [ 4  5  6]\n",
      " [ 7  8  9]\n",
      " [10 11 12]]\n",
      "\n",
      "Y has dimensions: (4, 3)\n",
      "Y has a total of 12 elements\n",
      "Y is an object of type: <class 'numpy.ndarray'>\n",
      "The elements in Y are of type: int32\n"
     ]
    }
   ],
   "source": [
    "# We create a rank 2 ndarray that only contains integers\n",
    "#                0       1       2         3  \n",
    "#              0 1 2   0 1 2   0 1 2    0   1  2\n",
    "Y = np.array([[1,2,3],[4,5,6],[7,8,9], [10,11,12]])\n",
    "\n",
    "# We print Y\n",
    "print()#\\n\n",
    "print('Y = \\n', Y)\n",
    "print()#\\n\n",
    "# We print information about Y\n",
    "print('Y has dimensions:', Y.shape)\n",
    "print('Y has a total of', Y.size, 'elements')\n",
    "print('Y is an object of type:', type(Y))\n",
    "print('The elements in Y are of type:', Y.dtype)"
   ]
  },
  {
   "cell_type": "markdown",
   "metadata": {},
   "source": [
    "# How to create a string 1D array ?"
   ]
  },
  {
   "cell_type": "code",
   "execution_count": 8,
   "metadata": {},
   "outputs": [
    {
     "name": "stdout",
     "output_type": "stream",
     "text": [
      "x =  ['Hello' 'World']\n",
      "x has dimensions: (2,)\n",
      "x is an object of type: <class 'numpy.ndarray'>\n",
      "The elements in x are of type: <U5\n"
     ]
    }
   ],
   "source": [
    "# We create a rank 1 ndarray that only contains strings\n",
    "x = np.array(['Hello', 'World'])\n",
    "\n",
    "# We print x\n",
    "print('x = ', x)\n",
    "# We print information about x\n",
    "print('x has dimensions:', x.shape)\n",
    "print('x is an object of type:', type(x))\n",
    "print('The elements in x are of type:', x.dtype)"
   ]
  },
  {
   "cell_type": "markdown",
   "metadata": {},
   "source": [
    "#### to read more abut numpy data type you can use this link :\n",
    "https://docs.scipy.org/doc/numpy-1.13.0/user/basics.types.html"
   ]
  },
  {
   "cell_type": "markdown",
   "metadata": {},
   "source": [
    "# Create a String and int in 1D array"
   ]
  },
  {
   "cell_type": "code",
   "execution_count": 9,
   "metadata": {},
   "outputs": [
    {
     "name": "stdout",
     "output_type": "stream",
     "text": [
      "x =  ['1' '2' 'World']\n",
      "\n",
      "\n",
      "x has dimensions: (3,)\n",
      "x is an object of type: <class 'numpy.ndarray'>\n",
      "The elements in x are of type: <U11\n"
     ]
    }
   ],
   "source": [
    "# We create a rank 1 ndarray from a Python list that contains integers and strings\n",
    "x = np.array([1, 2, 'World'])\n",
    "\n",
    "# We print the ndarray\n",
    "print('x = ', x)\n",
    "print(\"\\n\")\n",
    "\n",
    "# We print information about x\n",
    "print('x has dimensions:', x.shape)\n",
    "print('x is an object of type:', type(x))\n",
    "print('The elements in x are of type:', x.dtype)"
   ]
  },
  {
   "cell_type": "markdown",
   "metadata": {},
   "source": [
    "# Create a float and int in 1D array (upcasting)"
   ]
  },
  {
   "cell_type": "code",
   "execution_count": 10,
   "metadata": {},
   "outputs": [
    {
     "name": "stdout",
     "output_type": "stream",
     "text": [
      "x= [1 2 3]\n",
      "y= [1. 2. 3.]\n",
      "z= [1.  2.5 4. ]\n",
      "The elements in x are of type: int32\n",
      "The elements in y are of type: float64\n",
      "The elements in z are of type: float64\n"
     ]
    }
   ],
   "source": [
    "# We create a rank 1 ndarray that contains integers\n",
    "x = np.array([1,2,3])\n",
    "print(\"x=\",x)\n",
    "# We create a rank 1 ndarray that contains floats\n",
    "y = np.array([1.0,2.0,3.0])\n",
    "print(\"y=\",y)\n",
    "# We create a rank 1 ndarray that contains integers and floats\n",
    "z = np.array([1, 2.5, 4])\n",
    "print(\"z=\",z)\n",
    "# We print the dtype of each ndarray\n",
    "print('The elements in x are of type:', x.dtype)\n",
    "print('The elements in y are of type:', y.dtype)\n",
    "print('The elements in z are of type:', z.dtype)"
   ]
  },
  {
   "cell_type": "markdown",
   "metadata": {},
   "source": [
    "# Create a float and int in 1D array (upcasting with int)"
   ]
  },
  {
   "cell_type": "code",
   "execution_count": 11,
   "metadata": {},
   "outputs": [
    {
     "name": "stdout",
     "output_type": "stream",
     "text": [
      "\n",
      "x =  [1 2 3 4 5]\n",
      "\n",
      "The elements in x are of type: int32\n"
     ]
    }
   ],
   "source": [
    "# We create a rank 1 ndarray of floats but set the dtype to int64\n",
    "x = np.array([1.5, 2.2, 3.7, 4.0, 5.9], dtype = np.int32)\n",
    "\n",
    "# We print x\n",
    "print()\n",
    "print('x = ', x)\n",
    "print()\n",
    "\n",
    "# We print the dtype x\n",
    "print('The elements in x are of type:', x.dtype)"
   ]
  },
  {
   "cell_type": "code",
   "execution_count": 25,
   "metadata": {},
   "outputs": [
    {
     "name": "stdout",
     "output_type": "stream",
     "text": [
      "\n",
      "x =  [1.5 2.2 3.7 4.  5.9]\n",
      "\n",
      "The elements in x are of type: float64\n"
     ]
    }
   ],
   "source": [
    "x = np.array([1.5, 2.2, 3.7, 4.0, 5.9])\n",
    "\n",
    "# We print x\n",
    "print()\n",
    "print('x = ', x)\n",
    "print()\n",
    "\n",
    "# We print the dtype x\n",
    "print('The elements in x are of type:', x.dtype)"
   ]
  },
  {
   "cell_type": "code",
   "execution_count": null,
   "metadata": {},
   "outputs": [],
   "source": []
  }
 ],
 "metadata": {
  "kernelspec": {
   "display_name": "Python 3 (ipykernel)",
   "language": "python",
   "name": "python3"
  },
  "language_info": {
   "codemirror_mode": {
    "name": "ipython",
    "version": 3
   },
   "file_extension": ".py",
   "mimetype": "text/x-python",
   "name": "python",
   "nbconvert_exporter": "python",
   "pygments_lexer": "ipython3",
   "version": "3.12.4"
  }
 },
 "nbformat": 4,
 "nbformat_minor": 4
}
