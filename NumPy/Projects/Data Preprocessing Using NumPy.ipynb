{
 "cells": [
  {
   "cell_type": "markdown",
   "metadata": {},
   "source": [
    "# Mean Normalization\n",
    "\n",
    "In machine learning we use large amounts of data to train our models. Some machine learning algorithms may require that the data is *normalized* in order to work correctly. The idea of normalization, also known as *feature scaling*, is to ensure that all the data is on a similar scale, *i.e.* that all the data takes on a similar range of values. For example, we might have a dataset that has values between 0 and 5,000. By normalizing the data we can make the range of values be between 0 and 1.\n",
    "\n",
    "In this lab, you will be performing a different kind of feature scaling known as *mean normalization*. Mean normalization will scale the data, but instead of making the values be between 0 and 1, it will distribute the values evenly in some small interval around zero. For example, if we have a dataset that has values between 0 and 5,000, after mean normalization the range of values will be distributed in some small range around 0, for example between -3 to 3. Because the range of values are distributed evenly around zero, this guarantees that the average (mean) of all elements will be zero. Therefore, when you perform *mean normalization* your data will not only be scaled but it will also have an average of zero. \n",
    "\n",
    "# To Do:\n",
    "\n",
    "You will start by importing NumPy and creating a rank 2 ndarray of random integers between 0 and 5,000 (inclusive) with 1000 rows and 20 columns. This array will simulate a dataset with a wide range of values. Fill in the code below"
   ]
  },
  {
   "cell_type": "code",
   "execution_count": 13,
   "metadata": {},
   "outputs": [
    {
     "name": "stdout",
     "output_type": "stream",
     "text": [
      "(1000, 20)\n"
     ]
    }
   ],
   "source": [
    "# import NumPy into Python\n",
    "import numpy as np;\n",
    "\n",
    "# Create a 1000 x 20 ndarray with random integers in the half-open interval [0, 5001).\n",
    "X = np.linspace(0,5000,20000, endpoint=True).reshape(1000,20)\n",
    "# print the shape of X\n",
    "print(X.shape)"
   ]
  },
  {
   "cell_type": "markdown",
   "metadata": {},
   "source": [
    "Now that you created the array we will mean normalize it. We will perform mean normalization using the following equation:\n",
    "\n",
    "$\\mbox{Norm_Col}_i = \\frac{\\mbox{Col}_i - \\mu_i}{\\sigma_i}$\n",
    "\n",
    "where $\\mbox{Col}_i$ is the $i$th column of $X$, $\\mu_i$ is average of the values in the $i$th column of $X$, and $\\sigma_i$ is the standard deviation of the values in the $i$th column of $X$. In other words, mean normalization is performed by subtracting from each column of $X$ the average of its values, and then by dividing by the standard deviation of its values. In the space below, you will first calculate the average and standard deviation of each column of $X$. "
   ]
  },
  {
   "cell_type": "code",
   "execution_count": 14,
   "metadata": {},
   "outputs": [],
   "source": [
    "# Average of the values in each column of X\n",
    "ave_cols = X.mean(axis = 0)\n",
    "\n",
    "# Standard Deviation of the values in each column of X\n",
    "std_cols = X.std(axis = 0)"
   ]
  },
  {
   "cell_type": "markdown",
   "metadata": {},
   "source": [
    "If you have done the above calculations correctly, then `ave_cols` and `std_cols`, should both be vectors with shape `(20,)` since $X$ has 20 columns. You can verify this by filling the code below:"
   ]
  },
  {
   "cell_type": "code",
   "execution_count": 15,
   "metadata": {},
   "outputs": [
    {
     "name": "stdout",
     "output_type": "stream",
     "text": [
      "(20,)\n",
      "(20,)\n"
     ]
    }
   ],
   "source": [
    "# Print the shape of ave_cols\n",
    "print(ave_cols.shape)\n",
    "\n",
    "# Print the shape of std_cols\n",
    "print(std_cols.shape)"
   ]
  },
  {
   "cell_type": "markdown",
   "metadata": {},
   "source": [
    "You can now take advantage of Broadcasting to calculate the mean normalized version of $X$ in just one line of code using the equation above. Fill in the code below"
   ]
  },
  {
   "cell_type": "code",
   "execution_count": 16,
   "metadata": {},
   "outputs": [],
   "source": [
    "# Mean normalize X\n",
    "X_norm =  X - ave_cols / std_cols"
   ]
  },
  {
   "cell_type": "markdown",
   "metadata": {},
   "source": [
    "If you have performed the mean normalization correctly, then the average of all the elements in $X_{\\tiny{\\mbox{norm}}}$ should be close to zero, and they should be evenly distributed in some small interval around zero. You can verify this by filing the code below:"
   ]
  },
  {
   "cell_type": "code",
   "execution_count": 19,
   "metadata": {},
   "outputs": [
    {
     "name": "stdout",
     "output_type": "stream",
     "text": [
      "2498.268034928989\n",
      "[-1.73031962 -1.48048033 -1.23064103 -0.98080174 -0.73096244 -0.48112314\n",
      " -0.23128385  0.01855545  0.26839474  0.51823404  0.76807333  1.01791263\n",
      "  1.26775192  1.51759122  1.76743051  2.01726981  2.26710911  2.5169484\n",
      "  2.7667877   3.01662699]\n",
      "[4993.51944287 4993.76928216 4994.01912146 4994.26896075 4994.51880005\n",
      " 4994.76863934 4995.01847864 4995.26831793 4995.51815723 4995.76799653\n",
      " 4996.01783582 4996.26767512 4996.51751441 4996.76735371 4997.017193\n",
      " 4997.2670323  4997.51687159 4997.76671089 4998.01655018 4998.26638948]\n"
     ]
    }
   ],
   "source": [
    "# Print the average of all the values of X_norm\n",
    "print(X_norm.mean())\n",
    "\n",
    "# Print the average of the minimum value in each column of X_norm\n",
    "print(X_norm.min(axis = 0))\n",
    "\n",
    "# Print the average of the maximum value in each column of X_norm\n",
    "print(X_norm.max(axis = 0))"
   ]
  },
  {
   "cell_type": "markdown",
   "metadata": {},
   "source": [
    "You should note that since $X$ was created using random integers, the above values will vary. \n",
    "\n",
    "# Data Separation\n",
    "\n",
    "After the data has been mean normalized, it is customary in machine learnig to split our dataset into three sets:\n",
    "\n",
    "1. A Training Set\n",
    "2. A Cross Validation Set\n",
    "3. A Test Set\n",
    "\n",
    "The dataset is usually divided such that the Training Set contains 60% of the data, the Cross Validation Set contains 20% of the data, and the Test Set contains 20% of the data. \n",
    "\n",
    "In this part of the lab you will separate `X_norm` into a Training Set, Cross Validation Set, and a Test Set. Each data set will contain rows of `X_norm` chosen at random, making sure that we don't pick the same row twice. This will guarantee that all the rows of `X_norm` are chosen and randomly distributed among the three new sets.\n",
    "\n",
    "You will start by creating a rank 1 ndarray that contains a random permutation of the row indices of `X_norm`. You can do this by using the `np.random.permutation()` function. The `np.random.permutation(N)` function creates a random permutation of integers from 0 to `N - 1`. Let's see an example:"
   ]
  },
  {
   "cell_type": "code",
   "execution_count": 3,
   "metadata": {},
   "outputs": [
    {
     "data": {
      "text/plain": [
       "array([1, 4, 2, 0, 3])"
      ]
     },
     "execution_count": 3,
     "metadata": {},
     "output_type": "execute_result"
    }
   ],
   "source": [
    "# We create a random permutation of integers 0 to 4\n",
    "import numpy as np\n",
    "np.random.permutation(5)#like arange but not in order"
   ]
  },
  {
   "cell_type": "code",
   "execution_count": 4,
   "metadata": {},
   "outputs": [
    {
     "data": {
      "text/plain": [
       "array([0, 1, 2, 3, 4])"
      ]
     },
     "execution_count": 4,
     "metadata": {},
     "output_type": "execute_result"
    }
   ],
   "source": [
    "np.arange(5)"
   ]
  },
  {
   "cell_type": "markdown",
   "metadata": {},
   "source": [
    "# To Do\n",
    "\n",
    "In the space below create a rank 1 ndarray that contains a random permutation of the row indices of `X_norm`. You can do this in one line of code by extracting the number of rows of `X_norm` using the `shape` attribute and then passing it to the  `np.random.permutation()` function. Remember the `shape` attribute returns a tuple with two numbers in the form `(rows,columns)`."
   ]
  },
  {
   "cell_type": "code",
   "execution_count": 6,
   "metadata": {},
   "outputs": [
    {
     "data": {
      "text/plain": [
       "array([547, 893, 531, 175, 270, 529, 980, 983, 412, 442, 645, 460, 135,\n",
       "       329, 179, 191, 532, 154, 794, 282, 365,  68, 876, 216, 473, 246,\n",
       "       650, 871, 827, 185,  49,  27, 864, 126,  46, 752, 560, 935, 403,\n",
       "       255, 898,  37, 773, 748,  87, 850, 120, 824, 223, 276, 939, 878,\n",
       "       443, 638, 632, 741, 197, 128, 198, 789, 754, 572, 973, 891, 503,\n",
       "       570, 813, 482, 806, 923, 662, 310,   3, 545, 149, 880, 776, 124,\n",
       "       680, 884, 865, 260, 870, 341, 930, 130, 979, 924, 770, 823, 283,\n",
       "       431, 257, 745, 743, 606, 666, 802, 996,   9, 134, 384, 914, 699,\n",
       "       469, 896,  48, 882, 493, 855, 101, 288, 202, 931, 685,  66, 712,\n",
       "       575,  62, 145, 846, 510,  12, 552, 915, 426, 507, 746, 751, 119,\n",
       "        39, 358, 577, 703, 603, 908, 112,  83, 816, 627, 728, 474, 897,\n",
       "       702, 558, 610, 778, 332, 663,  15, 118, 307, 399, 414, 352, 306,\n",
       "       854, 402, 252,  84,   8, 345, 637, 546, 324, 517, 404, 861, 234,\n",
       "       584, 819, 240, 933, 833, 433, 446, 739, 982,  38,  56, 985, 993,\n",
       "       565, 481, 337,  55, 309, 578, 588, 733, 829, 781, 904, 862, 766,\n",
       "       580, 947, 138, 490, 587, 856,  81, 346, 405, 499, 125,  76, 771,\n",
       "       831, 785, 549, 448, 922, 877, 427, 290, 917, 225, 600, 261, 353,\n",
       "       934, 498, 123, 409, 675, 714, 569, 737, 457, 299,  13, 621, 630,\n",
       "       398, 502, 527,  57,  25, 553, 688, 820, 568, 950, 176, 162,  86,\n",
       "       178, 177, 691, 892, 189, 211, 396, 725, 109, 543, 894, 830, 968,\n",
       "        98, 248, 888, 709, 131, 188, 874, 946, 762, 760, 159, 115,  58,\n",
       "       555, 701, 564,  90,  72, 538, 961, 356, 581, 952, 684, 623, 520,\n",
       "       313, 395, 563, 102, 863, 768, 556,   4, 682, 106, 287,  17, 465,\n",
       "        31, 981, 598, 251, 462, 355, 937, 724, 420, 839, 486, 230, 656,\n",
       "        36, 800, 857, 489, 304, 592, 705, 217, 393, 626, 114, 155, 378,\n",
       "       965, 956, 167, 729,  28,  73, 122, 388,  50, 818, 436, 609, 206,\n",
       "       166, 775, 987, 390, 328, 241, 205, 918, 652, 220, 253, 668, 445,\n",
       "       164, 738, 817, 963, 475, 648, 847,  97,  51, 566, 678, 634, 275,\n",
       "       765, 500, 301, 302, 932, 117, 726, 350, 237, 406, 970, 780, 722,\n",
       "       812, 373, 959, 644, 910, 759, 103, 536, 591, 670, 136, 989, 425,\n",
       "       533, 620, 105, 788, 960, 476, 314,  74, 201, 814,  34, 936, 694,\n",
       "       550, 195, 272, 625, 761, 509, 718, 969, 523, 367, 151, 698, 805,\n",
       "       530, 707, 132, 204, 146, 455,  94, 212, 895, 589, 147, 774, 294,\n",
       "       723, 595, 767, 664, 218, 841, 434, 674, 491, 315, 941, 214, 706,\n",
       "       222, 660, 612, 181, 305, 750, 479, 492, 334, 844, 786, 400, 651,\n",
       "       438,  41, 263, 900, 327, 811, 144, 619, 727, 631, 887, 277,  70,\n",
       "       519, 312,  21, 161, 868, 943, 504, 172,   6,  60, 716,  44, 160,\n",
       "       374, 461, 944, 978, 357, 215, 885, 158, 141,  77,  52, 338,  69,\n",
       "       168, 793, 744,  20, 720, 153, 836, 734, 184, 376, 945, 697,  33,\n",
       "       853, 100, 363, 296, 593, 628, 233, 200, 840, 872, 249, 207, 203,\n",
       "       269, 689, 579, 913, 182, 690, 416,  18, 140, 998, 958, 467, 495,\n",
       "       453, 779, 988, 209, 408, 121, 267, 478, 540,  29, 537, 349,  24,\n",
       "       330, 391, 899, 439, 883, 458, 243,  95, 986, 386, 239, 784, 962,\n",
       "       516, 672, 561, 487, 410, 711, 695, 381, 797, 647, 669, 730, 244,\n",
       "       940, 196, 901, 667, 604,  85, 303, 528, 617, 673, 713, 902, 418,\n",
       "       633, 292, 291, 173, 721, 228, 525, 370, 845, 107, 157, 534, 548,\n",
       "       992, 544])"
      ]
     },
     "execution_count": 6,
     "metadata": {},
     "output_type": "execute_result"
    }
   ],
   "source": [
    "# Create a rank 1 ndarray that contains a random permutation of the row indices of `X_norm`\n",
    "row_indices =np.random.permutation(1000)#numbers from 0 to 999 not in order\n",
    "row_indices[0:600]"
   ]
  },
  {
   "cell_type": "markdown",
   "metadata": {},
   "source": [
    "Now you can create the three datasets using the `row_indices` ndarray to select the rows that will go into each dataset. Rememeber that the Training Set contains 60% of the data, the Cross Validation Set contains 20% of the data, and the Test Set contains 20% of the data. Each set requires just one line of code to create. Fill in the code below"
   ]
  },
  {
   "cell_type": "code",
   "execution_count": 28,
   "metadata": {},
   "outputs": [],
   "source": [
    "# Make any necessary calculations.\n",
    "# You can save your calculations into variables to use later.\n",
    "row_indices = np.random.permutation(X_norm)\n",
    "\n",
    "# Create a Training Set\n",
    "X_train = row_indices[0:12000]\n",
    "\n",
    "# Create a Cross Validation Set\n",
    "X_crossVal = row_indices[12000:16000] \n",
    "\n",
    "# Create a Test Set\n",
    "X_test = row_indices[16000:20000]"
   ]
  },
  {
   "cell_type": "markdown",
   "metadata": {},
   "source": [
    "If you performed the above calculations correctly, then `X_tain` should have 600 rows and 20 columns, `X_crossVal` should have 200 rows and 20 columns, and `X_test` should have 200 rows and 20 columns. You can verify this by filling the code below:"
   ]
  },
  {
   "cell_type": "code",
   "execution_count": 30,
   "metadata": {},
   "outputs": [
    {
     "name": "stdout",
     "output_type": "stream",
     "text": [
      "(1000, 20)\n",
      "(0, 20)\n",
      "(0, 20)\n"
     ]
    }
   ],
   "source": [
    "# Print the shape of X_train\n",
    "print(X_train.shape)\n",
    "\n",
    "# Print the shape of X_crossVal\n",
    "print(X_crossVal.shape)\n",
    "\n",
    "# Print the shape of X_test\n",
    "print(X_test.shape)"
   ]
  },
  {
   "cell_type": "code",
   "execution_count": null,
   "metadata": {},
   "outputs": [],
   "source": []
  }
 ],
 "metadata": {
  "kernelspec": {
   "display_name": "Python 3 (ipykernel)",
   "language": "python",
   "name": "python3"
  },
  "language_info": {
   "codemirror_mode": {
    "name": "ipython",
    "version": 3
   },
   "file_extension": ".py",
   "mimetype": "text/x-python",
   "name": "python",
   "nbconvert_exporter": "python",
   "pygments_lexer": "ipython3",
   "version": "3.12.4"
  }
 },
 "nbformat": 4,
 "nbformat_minor": 4
}
