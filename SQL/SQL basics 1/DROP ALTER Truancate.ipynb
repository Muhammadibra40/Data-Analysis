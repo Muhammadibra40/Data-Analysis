{
 "cells": [
  {
   "cell_type": "code",
   "execution_count": 1,
   "id": "ce183505",
   "metadata": {},
   "outputs": [],
   "source": [
    "import sqlite3\n",
    "\n",
    "def sql_i(instruction,data_b=\"data.db\"):\n",
    "    conn=sqlite3.connect(data_b)#data.db will open or create data base data.db\n",
    "    cur=conn.cursor()\n",
    "    cur.execute(instruction)#execute the instuction:\"CREATE TABLE IF NOT EXISTS PET (ID INTEGER NOT NULL,ANIMAL TEXT,QUANTITY INTEGER)\"\n",
    "    if \"select\" in instruction.lower() or \"pragma\" in instruction.lower():\n",
    "        rows=cur.fetchall()\n",
    "        conn.close()\n",
    "        return(rows)\n",
    "    else:\n",
    "        conn.commit()  \n",
    "        conn.close()"
   ]
  },
  {
   "cell_type": "code",
   "execution_count": 2,
   "id": "9d378ead",
   "metadata": {},
   "outputs": [],
   "source": [
    "sql_i(\"CREATE TABLE IF NOT EXISTS PET (ID INTEGER NOT NULL,ANIMAL TEXT,QUANTITY INTEGER)\")"
   ]
  },
  {
   "cell_type": "code",
   "execution_count": 3,
   "id": "090f310c",
   "metadata": {},
   "outputs": [],
   "source": [
    "sql_i('''\n",
    "CREATE TABLE IF NOT EXISTS PETSALE (ID INTEGER NOT NULL ,\n",
    "                                 PET TEXT ,\n",
    "                                 SALEPRICE REAL ,\n",
    "                                 PROFIT REAL ,\n",
    "                                 SALEDATE DATE)\n",
    "                                 ''')"
   ]
  },
  {
   "cell_type": "code",
   "execution_count": 4,
   "id": "dfa1cfd3",
   "metadata": {},
   "outputs": [],
   "source": [
    "sql_i('''\n",
    "INSERT INTO PETSALE VALUES\n",
    "    (1,'Cat',450.09,100.47,'2018-05-29'),\n",
    "    (2,'Dog',666.66,150.76,'2018-06-01'),\n",
    "    (3,'Parrot',50.00,8.9,'2018-06-04'),\n",
    "    (4,'Hamster',60.60,12,'2018-06-11'),\n",
    "    (5,'Goldfish',48.48,3.5,'2018-06-14')\n",
    "    ''')"
   ]
  },
  {
   "cell_type": "code",
   "execution_count": 5,
   "id": "4113fc45",
   "metadata": {},
   "outputs": [],
   "source": [
    "sql_i(\"INSERT INTO PET VALUES (1,'Cat',3),(2,'Dog',4),(3,'Hamster',2)\")"
   ]
  },
  {
   "cell_type": "code",
   "execution_count": 6,
   "id": "394cdd0e",
   "metadata": {},
   "outputs": [
    {
     "name": "stdout",
     "output_type": "stream",
     "text": [
      "[(1, 'Cat', 3), (2, 'Dog', 4), (3, 'Hamster', 2)]\n"
     ]
    }
   ],
   "source": [
    "output1=sql_i(\"SELECT * FROM PET\")\n",
    "print(output1)"
   ]
  },
  {
   "cell_type": "code",
   "execution_count": 7,
   "id": "8e9900ed",
   "metadata": {},
   "outputs": [
    {
     "name": "stdout",
     "output_type": "stream",
     "text": [
      "[(1, 'Cat', 450.09, '2018-05-29', 9), (2, 'Dog', 666.66, '2018-06-01', 3), (3, 'Parrot', 50.0, '2018-06-04', 2), (4, 'Hamster', 60.6, '2018-06-11', 6), (5, 'Goldfish', 48.48, '2018-06-14', 24), (1, 'Cat', 450.09, 100.47, '2018-05-29'), (2, 'Dog', 666.66, 150.76, '2018-06-01'), (3, 'Parrot', 50.0, 8.9, '2018-06-04'), (4, 'Hamster', 60.6, 12, '2018-06-11'), (5, 'Goldfish', 48.48, 3.5, '2018-06-14')]\n"
     ]
    }
   ],
   "source": [
    "output2=sql_i(\"SELECT * FROM PETSALE\")\n",
    "print(output2)"
   ]
  },
  {
   "cell_type": "markdown",
   "id": "83eb46f8",
   "metadata": {},
   "source": [
    "# create pandas data frame from table pet"
   ]
  },
  {
   "cell_type": "code",
   "execution_count": 8,
   "id": "47100b40",
   "metadata": {},
   "outputs": [
    {
     "data": {
      "text/html": [
       "<div>\n",
       "<style scoped>\n",
       "    .dataframe tbody tr th:only-of-type {\n",
       "        vertical-align: middle;\n",
       "    }\n",
       "\n",
       "    .dataframe tbody tr th {\n",
       "        vertical-align: top;\n",
       "    }\n",
       "\n",
       "    .dataframe thead th {\n",
       "        text-align: right;\n",
       "    }\n",
       "</style>\n",
       "<table border=\"1\" class=\"dataframe\">\n",
       "  <thead>\n",
       "    <tr style=\"text-align: right;\">\n",
       "      <th></th>\n",
       "      <th>0</th>\n",
       "      <th>1</th>\n",
       "      <th>2</th>\n",
       "    </tr>\n",
       "  </thead>\n",
       "  <tbody>\n",
       "    <tr>\n",
       "      <th>0</th>\n",
       "      <td>1</td>\n",
       "      <td>Cat</td>\n",
       "      <td>3</td>\n",
       "    </tr>\n",
       "    <tr>\n",
       "      <th>1</th>\n",
       "      <td>2</td>\n",
       "      <td>Dog</td>\n",
       "      <td>4</td>\n",
       "    </tr>\n",
       "    <tr>\n",
       "      <th>2</th>\n",
       "      <td>3</td>\n",
       "      <td>Hamster</td>\n",
       "      <td>2</td>\n",
       "    </tr>\n",
       "  </tbody>\n",
       "</table>\n",
       "</div>"
      ],
      "text/plain": [
       "   0        1  2\n",
       "0  1      Cat  3\n",
       "1  2      Dog  4\n",
       "2  3  Hamster  2"
      ]
     },
     "execution_count": 8,
     "metadata": {},
     "output_type": "execute_result"
    }
   ],
   "source": [
    "import pandas as pd\n",
    "df=pd.DataFrame(output1)\n",
    "df"
   ]
  },
  {
   "cell_type": "code",
   "execution_count": 9,
   "id": "6bdd5944",
   "metadata": {},
   "outputs": [
    {
     "data": {
      "text/plain": [
       "[(0, 'ID', 'INTEGER', 1, None, 0),\n",
       " (1, 'ANIMAL', 'TEXT', 0, None, 0),\n",
       " (2, 'QUANTITY', 'INTEGER', 0, None, 0)]"
      ]
     },
     "execution_count": 9,
     "metadata": {},
     "output_type": "execute_result"
    }
   ],
   "source": [
    "columns=sql_i(\"PRAGMA table_info('PET')\")\n",
    "columns"
   ]
  },
  {
   "cell_type": "code",
   "execution_count": 10,
   "id": "cf28b154",
   "metadata": {},
   "outputs": [
    {
     "data": {
      "text/plain": [
       "['ID', 'ANIMAL', 'QUANTITY']"
      ]
     },
     "execution_count": 10,
     "metadata": {},
     "output_type": "execute_result"
    }
   ],
   "source": [
    "head=[]\n",
    "for name in columns:#[(0, 'ID', 'INTEGER', 1, None, 0),(1, 'ANIMAL', 'TEXT', 0, None, 0),(2, 'QUANTITY', 'INTEGER', 0, None, 0)]\n",
    "    head.append(name[1])\n",
    "head"
   ]
  },
  {
   "cell_type": "code",
   "execution_count": 11,
   "id": "ebdfd23b",
   "metadata": {},
   "outputs": [
    {
     "data": {
      "text/html": [
       "<div>\n",
       "<style scoped>\n",
       "    .dataframe tbody tr th:only-of-type {\n",
       "        vertical-align: middle;\n",
       "    }\n",
       "\n",
       "    .dataframe tbody tr th {\n",
       "        vertical-align: top;\n",
       "    }\n",
       "\n",
       "    .dataframe thead th {\n",
       "        text-align: right;\n",
       "    }\n",
       "</style>\n",
       "<table border=\"1\" class=\"dataframe\">\n",
       "  <thead>\n",
       "    <tr style=\"text-align: right;\">\n",
       "      <th></th>\n",
       "      <th>ID</th>\n",
       "      <th>ANIMAL</th>\n",
       "      <th>QUANTITY</th>\n",
       "    </tr>\n",
       "  </thead>\n",
       "  <tbody>\n",
       "    <tr>\n",
       "      <th>0</th>\n",
       "      <td>1</td>\n",
       "      <td>Cat</td>\n",
       "      <td>3</td>\n",
       "    </tr>\n",
       "    <tr>\n",
       "      <th>1</th>\n",
       "      <td>2</td>\n",
       "      <td>Dog</td>\n",
       "      <td>4</td>\n",
       "    </tr>\n",
       "    <tr>\n",
       "      <th>2</th>\n",
       "      <td>3</td>\n",
       "      <td>Hamster</td>\n",
       "      <td>2</td>\n",
       "    </tr>\n",
       "  </tbody>\n",
       "</table>\n",
       "</div>"
      ],
      "text/plain": [
       "   ID   ANIMAL  QUANTITY\n",
       "0   1      Cat         3\n",
       "1   2      Dog         4\n",
       "2   3  Hamster         2"
      ]
     },
     "execution_count": 11,
     "metadata": {},
     "output_type": "execute_result"
    }
   ],
   "source": [
    "df=pd.DataFrame(output1,columns=head)\n",
    "df"
   ]
  },
  {
   "cell_type": "markdown",
   "id": "4dde45b6",
   "metadata": {},
   "source": [
    "# Task A: ALTER using ADD COLUMN"
   ]
  },
  {
   "cell_type": "code",
   "execution_count": 29,
   "id": "47f49bdf",
   "metadata": {},
   "outputs": [
    {
     "data": {
      "text/plain": [
       "[(1, 'Cat', 450.09, '2018-05-29', 9, None),\n",
       " (2, 'Dog', 666.66, '2018-06-01', 3, None),\n",
       " (3, 'Parrot', 50.0, '2018-06-04', 2, None),\n",
       " (4, 'Hamster', 60.6, '2018-06-11', 6, None),\n",
       " (5, 'Goldfish', 48.48, '2018-06-14', 24, None),\n",
       " (1, 'Cat', 450.09, 100.47, 9, None),\n",
       " (2, 'Dog', 666.66, 150.76, 3, None),\n",
       " (3, 'Parrot', 50.0, 8.9, 2, None),\n",
       " (4, 'Hamster', 60.6, 12, 6, None),\n",
       " (5, 'Goldfish', 48.48, 3.5, 24, None)]"
      ]
     },
     "execution_count": 29,
     "metadata": {},
     "output_type": "execute_result"
    }
   ],
   "source": [
    "#Add a new QUANTITY column to the PETSALE table and show the altered table.\n",
    "sql_i(\"ALTER TABLE PETSALE ADD COLUMN QUANTITY1 INTEGER\")\n",
    "petsale=sql_i(\"SELECT * FROM PETSALE\")\n",
    "petsale"
   ]
  },
  {
   "cell_type": "markdown",
   "id": "d743e7d3",
   "metadata": {},
   "source": [
    "# how to add columns names  ?"
   ]
  },
  {
   "cell_type": "code",
   "execution_count": 30,
   "id": "b5ca64aa",
   "metadata": {},
   "outputs": [
    {
     "data": {
      "text/plain": [
       "[(0, 'ID', 'INTEGER', 1, None, 0),\n",
       " (1, 'ANIMAL', 'TEXT', 0, None, 0),\n",
       " (2, 'SALEPRICE', 'REAL', 0, None, 0),\n",
       " (3, 'SALEDATE', 'DATE', 0, None, 0),\n",
       " (4, 'QUANTITY', 'INTEGER', 0, None, 0),\n",
       " (5, 'QUANTITY1', 'INTEGER', 0, None, 0)]"
      ]
     },
     "execution_count": 30,
     "metadata": {},
     "output_type": "execute_result"
    }
   ],
   "source": [
    "columns=sql_i(\"PRAGMA table_info('PETSALE')\")\n",
    "columns"
   ]
  },
  {
   "cell_type": "code",
   "execution_count": 31,
   "id": "58ecd44b",
   "metadata": {},
   "outputs": [
    {
     "data": {
      "text/plain": [
       "['ID', 'ANIMAL', 'SALEPRICE', 'SALEDATE', 'QUANTITY', 'QUANTITY1']"
      ]
     },
     "execution_count": 31,
     "metadata": {},
     "output_type": "execute_result"
    }
   ],
   "source": [
    "head=[]\n",
    "for name in columns:\n",
    "    head.append(name[1])\n",
    "head"
   ]
  },
  {
   "cell_type": "code",
   "execution_count": 32,
   "id": "94855ac0",
   "metadata": {},
   "outputs": [
    {
     "data": {
      "text/html": [
       "<div>\n",
       "<style scoped>\n",
       "    .dataframe tbody tr th:only-of-type {\n",
       "        vertical-align: middle;\n",
       "    }\n",
       "\n",
       "    .dataframe tbody tr th {\n",
       "        vertical-align: top;\n",
       "    }\n",
       "\n",
       "    .dataframe thead th {\n",
       "        text-align: right;\n",
       "    }\n",
       "</style>\n",
       "<table border=\"1\" class=\"dataframe\">\n",
       "  <thead>\n",
       "    <tr style=\"text-align: right;\">\n",
       "      <th></th>\n",
       "      <th>ID</th>\n",
       "      <th>ANIMAL</th>\n",
       "      <th>SALEPRICE</th>\n",
       "      <th>SALEDATE</th>\n",
       "      <th>QUANTITY</th>\n",
       "      <th>QUANTITY1</th>\n",
       "    </tr>\n",
       "  </thead>\n",
       "  <tbody>\n",
       "    <tr>\n",
       "      <th>0</th>\n",
       "      <td>1</td>\n",
       "      <td>Cat</td>\n",
       "      <td>450.09</td>\n",
       "      <td>2018-05-29</td>\n",
       "      <td>9</td>\n",
       "      <td>None</td>\n",
       "    </tr>\n",
       "    <tr>\n",
       "      <th>1</th>\n",
       "      <td>2</td>\n",
       "      <td>Dog</td>\n",
       "      <td>666.66</td>\n",
       "      <td>2018-06-01</td>\n",
       "      <td>3</td>\n",
       "      <td>None</td>\n",
       "    </tr>\n",
       "    <tr>\n",
       "      <th>2</th>\n",
       "      <td>3</td>\n",
       "      <td>Parrot</td>\n",
       "      <td>50.00</td>\n",
       "      <td>2018-06-04</td>\n",
       "      <td>2</td>\n",
       "      <td>None</td>\n",
       "    </tr>\n",
       "    <tr>\n",
       "      <th>3</th>\n",
       "      <td>4</td>\n",
       "      <td>Hamster</td>\n",
       "      <td>60.60</td>\n",
       "      <td>2018-06-11</td>\n",
       "      <td>6</td>\n",
       "      <td>None</td>\n",
       "    </tr>\n",
       "    <tr>\n",
       "      <th>4</th>\n",
       "      <td>5</td>\n",
       "      <td>Goldfish</td>\n",
       "      <td>48.48</td>\n",
       "      <td>2018-06-14</td>\n",
       "      <td>24</td>\n",
       "      <td>None</td>\n",
       "    </tr>\n",
       "    <tr>\n",
       "      <th>5</th>\n",
       "      <td>1</td>\n",
       "      <td>Cat</td>\n",
       "      <td>450.09</td>\n",
       "      <td>100.47</td>\n",
       "      <td>9</td>\n",
       "      <td>None</td>\n",
       "    </tr>\n",
       "    <tr>\n",
       "      <th>6</th>\n",
       "      <td>2</td>\n",
       "      <td>Dog</td>\n",
       "      <td>666.66</td>\n",
       "      <td>150.76</td>\n",
       "      <td>3</td>\n",
       "      <td>None</td>\n",
       "    </tr>\n",
       "    <tr>\n",
       "      <th>7</th>\n",
       "      <td>3</td>\n",
       "      <td>Parrot</td>\n",
       "      <td>50.00</td>\n",
       "      <td>8.9</td>\n",
       "      <td>2</td>\n",
       "      <td>None</td>\n",
       "    </tr>\n",
       "    <tr>\n",
       "      <th>8</th>\n",
       "      <td>4</td>\n",
       "      <td>Hamster</td>\n",
       "      <td>60.60</td>\n",
       "      <td>12</td>\n",
       "      <td>6</td>\n",
       "      <td>None</td>\n",
       "    </tr>\n",
       "    <tr>\n",
       "      <th>9</th>\n",
       "      <td>5</td>\n",
       "      <td>Goldfish</td>\n",
       "      <td>48.48</td>\n",
       "      <td>3.5</td>\n",
       "      <td>24</td>\n",
       "      <td>None</td>\n",
       "    </tr>\n",
       "  </tbody>\n",
       "</table>\n",
       "</div>"
      ],
      "text/plain": [
       "   ID    ANIMAL  SALEPRICE    SALEDATE  QUANTITY QUANTITY1\n",
       "0   1       Cat     450.09  2018-05-29         9      None\n",
       "1   2       Dog     666.66  2018-06-01         3      None\n",
       "2   3    Parrot      50.00  2018-06-04         2      None\n",
       "3   4   Hamster      60.60  2018-06-11         6      None\n",
       "4   5  Goldfish      48.48  2018-06-14        24      None\n",
       "5   1       Cat     450.09      100.47         9      None\n",
       "6   2       Dog     666.66      150.76         3      None\n",
       "7   3    Parrot      50.00         8.9         2      None\n",
       "8   4   Hamster      60.60          12         6      None\n",
       "9   5  Goldfish      48.48         3.5        24      None"
      ]
     },
     "execution_count": 32,
     "metadata": {},
     "output_type": "execute_result"
    }
   ],
   "source": [
    "petsale = sql_i(\"SELECT * FROM petsale\")\n",
    "petsale=pd.DataFrame(petsale,columns=head)\n",
    "petsale"
   ]
  },
  {
   "cell_type": "code",
   "execution_count": 33,
   "id": "fefcd845",
   "metadata": {},
   "outputs": [],
   "source": [
    "sql_i(\"UPDATE PETSALE SET QUANTITY = 9 WHERE ID = 1\")\n",
    "sql_i(\"UPDATE PETSALE SET QUANTITY = 3 WHERE ID = 2\")\n",
    "sql_i(\"UPDATE PETSALE SET QUANTITY = 2 WHERE ID = 3\")\n",
    "sql_i(\"UPDATE PETSALE SET QUANTITY = 6 WHERE ID = 4\")\n",
    "sql_i(\"UPDATE PETSALE SET QUANTITY = 24 WHERE ID = 5\")"
   ]
  },
  {
   "cell_type": "code",
   "execution_count": 34,
   "id": "b527f22e",
   "metadata": {},
   "outputs": [
    {
     "data": {
      "text/html": [
       "<div>\n",
       "<style scoped>\n",
       "    .dataframe tbody tr th:only-of-type {\n",
       "        vertical-align: middle;\n",
       "    }\n",
       "\n",
       "    .dataframe tbody tr th {\n",
       "        vertical-align: top;\n",
       "    }\n",
       "\n",
       "    .dataframe thead th {\n",
       "        text-align: right;\n",
       "    }\n",
       "</style>\n",
       "<table border=\"1\" class=\"dataframe\">\n",
       "  <thead>\n",
       "    <tr style=\"text-align: right;\">\n",
       "      <th></th>\n",
       "      <th>ID</th>\n",
       "      <th>ANIMAL</th>\n",
       "      <th>SALEPRICE</th>\n",
       "      <th>SALEDATE</th>\n",
       "      <th>QUANTITY</th>\n",
       "      <th>QUANTITY1</th>\n",
       "    </tr>\n",
       "  </thead>\n",
       "  <tbody>\n",
       "    <tr>\n",
       "      <th>0</th>\n",
       "      <td>1</td>\n",
       "      <td>Cat</td>\n",
       "      <td>450.09</td>\n",
       "      <td>2018-05-29</td>\n",
       "      <td>9</td>\n",
       "      <td>None</td>\n",
       "    </tr>\n",
       "    <tr>\n",
       "      <th>1</th>\n",
       "      <td>2</td>\n",
       "      <td>Dog</td>\n",
       "      <td>666.66</td>\n",
       "      <td>2018-06-01</td>\n",
       "      <td>3</td>\n",
       "      <td>None</td>\n",
       "    </tr>\n",
       "    <tr>\n",
       "      <th>2</th>\n",
       "      <td>3</td>\n",
       "      <td>Parrot</td>\n",
       "      <td>50.00</td>\n",
       "      <td>2018-06-04</td>\n",
       "      <td>2</td>\n",
       "      <td>None</td>\n",
       "    </tr>\n",
       "    <tr>\n",
       "      <th>3</th>\n",
       "      <td>4</td>\n",
       "      <td>Hamster</td>\n",
       "      <td>60.60</td>\n",
       "      <td>2018-06-11</td>\n",
       "      <td>6</td>\n",
       "      <td>None</td>\n",
       "    </tr>\n",
       "    <tr>\n",
       "      <th>4</th>\n",
       "      <td>5</td>\n",
       "      <td>Goldfish</td>\n",
       "      <td>48.48</td>\n",
       "      <td>2018-06-14</td>\n",
       "      <td>24</td>\n",
       "      <td>None</td>\n",
       "    </tr>\n",
       "    <tr>\n",
       "      <th>5</th>\n",
       "      <td>1</td>\n",
       "      <td>Cat</td>\n",
       "      <td>450.09</td>\n",
       "      <td>100.47</td>\n",
       "      <td>9</td>\n",
       "      <td>None</td>\n",
       "    </tr>\n",
       "    <tr>\n",
       "      <th>6</th>\n",
       "      <td>2</td>\n",
       "      <td>Dog</td>\n",
       "      <td>666.66</td>\n",
       "      <td>150.76</td>\n",
       "      <td>3</td>\n",
       "      <td>None</td>\n",
       "    </tr>\n",
       "    <tr>\n",
       "      <th>7</th>\n",
       "      <td>3</td>\n",
       "      <td>Parrot</td>\n",
       "      <td>50.00</td>\n",
       "      <td>8.9</td>\n",
       "      <td>2</td>\n",
       "      <td>None</td>\n",
       "    </tr>\n",
       "    <tr>\n",
       "      <th>8</th>\n",
       "      <td>4</td>\n",
       "      <td>Hamster</td>\n",
       "      <td>60.60</td>\n",
       "      <td>12</td>\n",
       "      <td>6</td>\n",
       "      <td>None</td>\n",
       "    </tr>\n",
       "    <tr>\n",
       "      <th>9</th>\n",
       "      <td>5</td>\n",
       "      <td>Goldfish</td>\n",
       "      <td>48.48</td>\n",
       "      <td>3.5</td>\n",
       "      <td>24</td>\n",
       "      <td>None</td>\n",
       "    </tr>\n",
       "  </tbody>\n",
       "</table>\n",
       "</div>"
      ],
      "text/plain": [
       "   ID    ANIMAL  SALEPRICE    SALEDATE  QUANTITY QUANTITY1\n",
       "0   1       Cat     450.09  2018-05-29         9      None\n",
       "1   2       Dog     666.66  2018-06-01         3      None\n",
       "2   3    Parrot      50.00  2018-06-04         2      None\n",
       "3   4   Hamster      60.60  2018-06-11         6      None\n",
       "4   5  Goldfish      48.48  2018-06-14        24      None\n",
       "5   1       Cat     450.09      100.47         9      None\n",
       "6   2       Dog     666.66      150.76         3      None\n",
       "7   3    Parrot      50.00         8.9         2      None\n",
       "8   4   Hamster      60.60          12         6      None\n",
       "9   5  Goldfish      48.48         3.5        24      None"
      ]
     },
     "execution_count": 34,
     "metadata": {},
     "output_type": "execute_result"
    }
   ],
   "source": [
    "petsale=sql_i(\"SELECT * FROM PETSALE\")\n",
    "petsale=pd.DataFrame(petsale,columns=head)\n",
    "petsale"
   ]
  },
  {
   "cell_type": "markdown",
   "id": "05f33a9c",
   "metadata": {},
   "source": [
    "# Task B: ALTER using DROP COLUMN"
   ]
  },
  {
   "cell_type": "code",
   "execution_count": 35,
   "id": "6f7e0658",
   "metadata": {},
   "outputs": [
    {
     "data": {
      "text/html": [
       "<div>\n",
       "<style scoped>\n",
       "    .dataframe tbody tr th:only-of-type {\n",
       "        vertical-align: middle;\n",
       "    }\n",
       "\n",
       "    .dataframe tbody tr th {\n",
       "        vertical-align: top;\n",
       "    }\n",
       "\n",
       "    .dataframe thead th {\n",
       "        text-align: right;\n",
       "    }\n",
       "</style>\n",
       "<table border=\"1\" class=\"dataframe\">\n",
       "  <thead>\n",
       "    <tr style=\"text-align: right;\">\n",
       "      <th></th>\n",
       "      <th>ID</th>\n",
       "      <th>ANIMAL</th>\n",
       "      <th>SALEPRICE</th>\n",
       "      <th>SALEDATE</th>\n",
       "      <th>QUANTITY</th>\n",
       "    </tr>\n",
       "  </thead>\n",
       "  <tbody>\n",
       "    <tr>\n",
       "      <th>0</th>\n",
       "      <td>1</td>\n",
       "      <td>Cat</td>\n",
       "      <td>450.09</td>\n",
       "      <td>2018-05-29</td>\n",
       "      <td>9</td>\n",
       "    </tr>\n",
       "    <tr>\n",
       "      <th>1</th>\n",
       "      <td>2</td>\n",
       "      <td>Dog</td>\n",
       "      <td>666.66</td>\n",
       "      <td>2018-06-01</td>\n",
       "      <td>3</td>\n",
       "    </tr>\n",
       "    <tr>\n",
       "      <th>2</th>\n",
       "      <td>3</td>\n",
       "      <td>Parrot</td>\n",
       "      <td>50.00</td>\n",
       "      <td>2018-06-04</td>\n",
       "      <td>2</td>\n",
       "    </tr>\n",
       "    <tr>\n",
       "      <th>3</th>\n",
       "      <td>4</td>\n",
       "      <td>Hamster</td>\n",
       "      <td>60.60</td>\n",
       "      <td>2018-06-11</td>\n",
       "      <td>6</td>\n",
       "    </tr>\n",
       "    <tr>\n",
       "      <th>4</th>\n",
       "      <td>5</td>\n",
       "      <td>Goldfish</td>\n",
       "      <td>48.48</td>\n",
       "      <td>2018-06-14</td>\n",
       "      <td>24</td>\n",
       "    </tr>\n",
       "    <tr>\n",
       "      <th>5</th>\n",
       "      <td>1</td>\n",
       "      <td>Cat</td>\n",
       "      <td>450.09</td>\n",
       "      <td>100.47</td>\n",
       "      <td>9</td>\n",
       "    </tr>\n",
       "    <tr>\n",
       "      <th>6</th>\n",
       "      <td>2</td>\n",
       "      <td>Dog</td>\n",
       "      <td>666.66</td>\n",
       "      <td>150.76</td>\n",
       "      <td>3</td>\n",
       "    </tr>\n",
       "    <tr>\n",
       "      <th>7</th>\n",
       "      <td>3</td>\n",
       "      <td>Parrot</td>\n",
       "      <td>50.00</td>\n",
       "      <td>8.9</td>\n",
       "      <td>2</td>\n",
       "    </tr>\n",
       "    <tr>\n",
       "      <th>8</th>\n",
       "      <td>4</td>\n",
       "      <td>Hamster</td>\n",
       "      <td>60.60</td>\n",
       "      <td>12</td>\n",
       "      <td>6</td>\n",
       "    </tr>\n",
       "    <tr>\n",
       "      <th>9</th>\n",
       "      <td>5</td>\n",
       "      <td>Goldfish</td>\n",
       "      <td>48.48</td>\n",
       "      <td>3.5</td>\n",
       "      <td>24</td>\n",
       "    </tr>\n",
       "  </tbody>\n",
       "</table>\n",
       "</div>"
      ],
      "text/plain": [
       "   ID    ANIMAL  SALEPRICE    SALEDATE  QUANTITY\n",
       "0   1       Cat     450.09  2018-05-29         9\n",
       "1   2       Dog     666.66  2018-06-01         3\n",
       "2   3    Parrot      50.00  2018-06-04         2\n",
       "3   4   Hamster      60.60  2018-06-11         6\n",
       "4   5  Goldfish      48.48  2018-06-14        24\n",
       "5   1       Cat     450.09      100.47         9\n",
       "6   2       Dog     666.66      150.76         3\n",
       "7   3    Parrot      50.00         8.9         2\n",
       "8   4   Hamster      60.60          12         6\n",
       "9   5  Goldfish      48.48         3.5        24"
      ]
     },
     "execution_count": 35,
     "metadata": {},
     "output_type": "execute_result"
    }
   ],
   "source": [
    "#TO DO:DROP COLUMN PROFIT from table PETSALE and print output table\n",
    "sql_i(\"ALTER TABLE PETSALE DROP COLUMN QUANTITY1\")\n",
    "columns=sql_i(\"PRAGMA table_info('PETSALE')\")\n",
    "head=[]\n",
    "for name in columns:\n",
    "    head.append(name[1])\n",
    "petsale=sql_i(\"SELECT * FROM PETSALE\")\n",
    "petsale=pd.DataFrame(petsale,columns=head)\n",
    "petsale"
   ]
  },
  {
   "cell_type": "markdown",
   "id": "7009f5b8",
   "metadata": {},
   "source": [
    "# Task C: ALTER using RENAME COLUMN"
   ]
  },
  {
   "cell_type": "code",
   "execution_count": 41,
   "id": "d8c40fb7",
   "metadata": {},
   "outputs": [
    {
     "data": {
      "text/html": [
       "<div>\n",
       "<style scoped>\n",
       "    .dataframe tbody tr th:only-of-type {\n",
       "        vertical-align: middle;\n",
       "    }\n",
       "\n",
       "    .dataframe tbody tr th {\n",
       "        vertical-align: top;\n",
       "    }\n",
       "\n",
       "    .dataframe thead th {\n",
       "        text-align: right;\n",
       "    }\n",
       "</style>\n",
       "<table border=\"1\" class=\"dataframe\">\n",
       "  <thead>\n",
       "    <tr style=\"text-align: right;\">\n",
       "      <th></th>\n",
       "      <th>ID</th>\n",
       "      <th>PET</th>\n",
       "      <th>SALEPRICE</th>\n",
       "      <th>SALEDATE</th>\n",
       "      <th>QUANTITY</th>\n",
       "    </tr>\n",
       "  </thead>\n",
       "  <tbody>\n",
       "    <tr>\n",
       "      <th>0</th>\n",
       "      <td>1</td>\n",
       "      <td>Cat</td>\n",
       "      <td>450.09</td>\n",
       "      <td>2018-05-29</td>\n",
       "      <td>9</td>\n",
       "    </tr>\n",
       "    <tr>\n",
       "      <th>1</th>\n",
       "      <td>2</td>\n",
       "      <td>Dog</td>\n",
       "      <td>666.66</td>\n",
       "      <td>2018-06-01</td>\n",
       "      <td>3</td>\n",
       "    </tr>\n",
       "    <tr>\n",
       "      <th>2</th>\n",
       "      <td>3</td>\n",
       "      <td>Parrot</td>\n",
       "      <td>50.00</td>\n",
       "      <td>2018-06-04</td>\n",
       "      <td>2</td>\n",
       "    </tr>\n",
       "    <tr>\n",
       "      <th>3</th>\n",
       "      <td>4</td>\n",
       "      <td>Hamster</td>\n",
       "      <td>60.60</td>\n",
       "      <td>2018-06-11</td>\n",
       "      <td>6</td>\n",
       "    </tr>\n",
       "    <tr>\n",
       "      <th>4</th>\n",
       "      <td>5</td>\n",
       "      <td>Goldfish</td>\n",
       "      <td>48.48</td>\n",
       "      <td>2018-06-14</td>\n",
       "      <td>24</td>\n",
       "    </tr>\n",
       "    <tr>\n",
       "      <th>5</th>\n",
       "      <td>1</td>\n",
       "      <td>Cat</td>\n",
       "      <td>450.09</td>\n",
       "      <td>100.47</td>\n",
       "      <td>9</td>\n",
       "    </tr>\n",
       "    <tr>\n",
       "      <th>6</th>\n",
       "      <td>2</td>\n",
       "      <td>Dog</td>\n",
       "      <td>666.66</td>\n",
       "      <td>150.76</td>\n",
       "      <td>3</td>\n",
       "    </tr>\n",
       "    <tr>\n",
       "      <th>7</th>\n",
       "      <td>3</td>\n",
       "      <td>Parrot</td>\n",
       "      <td>50.00</td>\n",
       "      <td>8.9</td>\n",
       "      <td>2</td>\n",
       "    </tr>\n",
       "    <tr>\n",
       "      <th>8</th>\n",
       "      <td>4</td>\n",
       "      <td>Hamster</td>\n",
       "      <td>60.60</td>\n",
       "      <td>12</td>\n",
       "      <td>6</td>\n",
       "    </tr>\n",
       "    <tr>\n",
       "      <th>9</th>\n",
       "      <td>5</td>\n",
       "      <td>Goldfish</td>\n",
       "      <td>48.48</td>\n",
       "      <td>3.5</td>\n",
       "      <td>24</td>\n",
       "    </tr>\n",
       "  </tbody>\n",
       "</table>\n",
       "</div>"
      ],
      "text/plain": [
       "   ID       PET  SALEPRICE    SALEDATE  QUANTITY\n",
       "0   1       Cat     450.09  2018-05-29         9\n",
       "1   2       Dog     666.66  2018-06-01         3\n",
       "2   3    Parrot      50.00  2018-06-04         2\n",
       "3   4   Hamster      60.60  2018-06-11         6\n",
       "4   5  Goldfish      48.48  2018-06-14        24\n",
       "5   1       Cat     450.09      100.47         9\n",
       "6   2       Dog     666.66      150.76         3\n",
       "7   3    Parrot      50.00         8.9         2\n",
       "8   4   Hamster      60.60          12         6\n",
       "9   5  Goldfish      48.48         3.5        24"
      ]
     },
     "execution_count": 41,
     "metadata": {},
     "output_type": "execute_result"
    }
   ],
   "source": [
    "#TO DO:RENAME COLUMN PET TO ANIMAL in table PETSALE and print output table\n",
    "# sql_i(\"ALTER TABLE PETSALE RENAME COLUMN ANIMAL TO PET\")\n",
    "columns=sql_i(\"PRAGMA table_info('PETSALE')\")\n",
    "head=[]\n",
    "for name in columns:\n",
    "    head.append(name[1])\n",
    "petsale=sql_i(\"SELECT * FROM PETSALE\")\n",
    "petsale=pd.DataFrame(petsale,columns=head)\n",
    "petsale"
   ]
  },
  {
   "cell_type": "markdown",
   "id": "37ab02d0",
   "metadata": {},
   "source": [
    "# Task D: DROP TABLE"
   ]
  },
  {
   "cell_type": "code",
   "execution_count": 44,
   "id": "95f91ad3",
   "metadata": {},
   "outputs": [
    {
     "ename": "OperationalError",
     "evalue": "no such table: PETSALE",
     "output_type": "error",
     "traceback": [
      "\u001b[1;31m---------------------------------------------------------------------------\u001b[0m",
      "\u001b[1;31mOperationalError\u001b[0m                          Traceback (most recent call last)",
      "Cell \u001b[1;32mIn[44], line 7\u001b[0m\n\u001b[0;32m      5\u001b[0m \u001b[38;5;28;01mfor\u001b[39;00m name \u001b[38;5;129;01min\u001b[39;00m columns:\n\u001b[0;32m      6\u001b[0m     head\u001b[38;5;241m.\u001b[39mappend(name[\u001b[38;5;241m1\u001b[39m])\n\u001b[1;32m----> 7\u001b[0m petsale\u001b[38;5;241m=\u001b[39msql_i(\u001b[38;5;124m\"\u001b[39m\u001b[38;5;124mSELECT * FROM PETSALE\u001b[39m\u001b[38;5;124m\"\u001b[39m)\n\u001b[0;32m      8\u001b[0m petsale\u001b[38;5;241m=\u001b[39mpd\u001b[38;5;241m.\u001b[39mDataFrame(petsale,columns\u001b[38;5;241m=\u001b[39mhead)\n\u001b[0;32m      9\u001b[0m petsale\n",
      "Cell \u001b[1;32mIn[1], line 6\u001b[0m, in \u001b[0;36msql_i\u001b[1;34m(instruction, data_b)\u001b[0m\n\u001b[0;32m      4\u001b[0m conn\u001b[38;5;241m=\u001b[39msqlite3\u001b[38;5;241m.\u001b[39mconnect(data_b)\u001b[38;5;66;03m#data.db will open or create data base data.db\u001b[39;00m\n\u001b[0;32m      5\u001b[0m cur\u001b[38;5;241m=\u001b[39mconn\u001b[38;5;241m.\u001b[39mcursor()\n\u001b[1;32m----> 6\u001b[0m cur\u001b[38;5;241m.\u001b[39mexecute(instruction)\u001b[38;5;66;03m#execute the instuction:\"CREATE TABLE IF NOT EXISTS PET (ID INTEGER NOT NULL,ANIMAL TEXT,QUANTITY INTEGER)\"\u001b[39;00m\n\u001b[0;32m      7\u001b[0m \u001b[38;5;28;01mif\u001b[39;00m \u001b[38;5;124m\"\u001b[39m\u001b[38;5;124mselect\u001b[39m\u001b[38;5;124m\"\u001b[39m \u001b[38;5;129;01min\u001b[39;00m instruction\u001b[38;5;241m.\u001b[39mlower() \u001b[38;5;129;01mor\u001b[39;00m \u001b[38;5;124m\"\u001b[39m\u001b[38;5;124mpragma\u001b[39m\u001b[38;5;124m\"\u001b[39m \u001b[38;5;129;01min\u001b[39;00m instruction\u001b[38;5;241m.\u001b[39mlower():\n\u001b[0;32m      8\u001b[0m     rows\u001b[38;5;241m=\u001b[39mcur\u001b[38;5;241m.\u001b[39mfetchall()\n",
      "\u001b[1;31mOperationalError\u001b[0m: no such table: PETSALE"
     ]
    }
   ],
   "source": [
    "#TO DO: DROP TABLE PET and print output \n",
    "# sql_i(\"DROP TABLE PETSALE\")\n",
    "columns=sql_i(\"PRAGMA table_info('PETSALE')\")\n",
    "head=[]\n",
    "for name in columns:\n",
    "    head.append(name[1])\n",
    "petsale=sql_i(\"SELECT * FROM PETSALE\")\n",
    "petsale=pd.DataFrame(petsale,columns=head)\n",
    "petsale"
   ]
  },
  {
   "cell_type": "code",
   "execution_count": null,
   "id": "d24ae887-94c2-4218-8ecb-ac63d24d9721",
   "metadata": {},
   "outputs": [],
   "source": []
  }
 ],
 "metadata": {
  "kernelspec": {
   "display_name": "Python 3 (ipykernel)",
   "language": "python",
   "name": "python3"
  },
  "language_info": {
   "codemirror_mode": {
    "name": "ipython",
    "version": 3
   },
   "file_extension": ".py",
   "mimetype": "text/x-python",
   "name": "python",
   "nbconvert_exporter": "python",
   "pygments_lexer": "ipython3",
   "version": "3.12.4"
  }
 },
 "nbformat": 4,
 "nbformat_minor": 5
}
