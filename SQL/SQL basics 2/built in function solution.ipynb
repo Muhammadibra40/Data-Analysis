{
 "cells": [
  {
   "cell_type": "markdown",
   "id": "957e1ea0",
   "metadata": {},
   "source": [
    "# using function tabulate to print tables shapes"
   ]
  },
  {
   "cell_type": "code",
   "execution_count": 4,
   "id": "ce183505",
   "metadata": {},
   "outputs": [],
   "source": [
    "import sqlite3\n",
    "\n",
    "def sql_i(instruction,data_b=\"data.db\"):\n",
    "    conn=sqlite3.connect(data_b)\n",
    "    cur=conn.cursor()\n",
    "    cur.execute(instruction)\n",
    "    if \"select\" in instruction.lower() or \"pragma\" in instruction.lower():\n",
    "        rows=cur.fetchall()\n",
    "        conn.close()\n",
    "        return(rows)\n",
    "    else:\n",
    "        conn.commit()  \n",
    "        conn.close()"
   ]
  },
  {
   "attachments": {
    "image.png": {
     "image/png": "[encoded data removed]"
    }
   },
   "cell_type": "markdown",
   "id": "ec39e649",
   "metadata": {},
   "source": [
    "![image.png](attachment:image.png)"
   ]
  },
  {
   "cell_type": "markdown",
   "id": "441d9247",
   "metadata": {},
   "source": [
    "# TASK 1:"
   ]
  },
  {
   "cell_type": "code",
   "execution_count": 5,
   "id": "3f37f71f",
   "metadata": {},
   "outputs": [
    {
     "data": {
      "text/plain": [
       "[(1718.24,)]"
      ]
     },
     "execution_count": 5,
     "metadata": {},
     "output_type": "execute_result"
    }
   ],
   "source": [
    "#Enter a function that calculates the total cost of all animal rescues in the PETRESCUE table\n",
    "sql_i(\"SELECT SUM(COST)FROM PETRESCUE\")"
   ]
  },
  {
   "cell_type": "code",
   "execution_count": 7,
   "id": "209b0520",
   "metadata": {},
   "outputs": [
    {
     "data": {
      "text/plain": [
       "[('Cat', 494.53),\n",
       " ('Dog', 1064.6299999999999),\n",
       " ('Goldfish', 48.48),\n",
       " ('Hamster', 60.6),\n",
       " ('Parrot', 50)]"
      ]
     },
     "execution_count": 7,
     "metadata": {},
     "output_type": "execute_result"
    }
   ],
   "source": [
    "#Enter a function that calculates the total cost for  animals with respect to kind in the PETRESCUE table\n",
    "sql_i(\"SELECT ANIMAL,SUM(COST)FROM PETRESCUE group by ANIMAL\")"
   ]
  },
  {
   "cell_type": "code",
   "execution_count": 8,
   "id": "c531df87",
   "metadata": {},
   "outputs": [
    {
     "data": {
      "text/plain": [
       "[('Goldfish', 24)]"
      ]
     },
     "execution_count": 8,
     "metadata": {},
     "output_type": "execute_result"
    }
   ],
   "source": [
    "#Enter a function that displays the maximum quantity of animals rescued\n",
    "sql_i(\"SELECT ANIMAL,MAX( QUANTITY)FROM PETRESCUE\")"
   ]
  },
  {
   "cell_type": "code",
   "execution_count": 8,
   "id": "81ff65e0",
   "metadata": {},
   "outputs": [
    {
     "data": {
      "text/plain": [
       "[(190.91555555555556,)]"
      ]
     },
     "execution_count": 8,
     "metadata": {},
     "output_type": "execute_result"
    }
   ],
   "source": [
    "#Enter a function that displays the average cost of animals rescued\n",
    "sql_i(\"SELECT AVG(COST)FROM PETRESCUE\")"
   ]
  },
  {
   "cell_type": "code",
   "execution_count": 12,
   "id": "a50273fd",
   "metadata": {},
   "outputs": [
    {
     "data": {
      "text/plain": [
       "[('Cat', 247.265),\n",
       " ('Dog', 266.15749999999997),\n",
       " ('Goldfish', 48.48),\n",
       " ('Hamster', 60.6),\n",
       " ('Parrot', 50.0)]"
      ]
     },
     "execution_count": 12,
     "metadata": {},
     "output_type": "execute_result"
    }
   ],
   "source": [
    "#Enter a function that calculates the average cost for animals with respect to kind in the PETRESCUE table\n",
    "sql_i(\"SELECT ANIMAL,AVG(COST)FROM PETRESCUE group by ANIMAL\")"
   ]
  },
  {
   "cell_type": "code",
   "execution_count": 11,
   "id": "e5302d77",
   "metadata": {
    "scrolled": true
   },
   "outputs": [
    {
     "data": {
      "text/plain": [
       "[('Cat', 50.01),\n",
       " ('Dog', 222.22),\n",
       " ('Dog', 100),\n",
       " ('Parrot', 25),\n",
       " ('Dog', 75.75),\n",
       " ('Hamster', 10.1),\n",
       " ('Cat', 44.44),\n",
       " ('Goldfish', 2.02),\n",
       " ('Dog', 111.11)]"
      ]
     },
     "execution_count": 11,
     "metadata": {},
     "output_type": "execute_result"
    }
   ],
   "source": [
    "#calculalte cost per QUANTITY \n",
    "sql_i(\"SELECT ANIMAL, COST/QUANTITY  FROM PETRESCUE\")"
   ]
  },
  {
   "cell_type": "code",
   "execution_count": 23,
   "id": "a17fbfde",
   "metadata": {},
   "outputs": [
    {
     "data": {
      "text/plain": [
       "[('Cat', 49.452999999999996),\n",
       " ('Dog', 152.08999999999997),\n",
       " ('Goldfish', 2.02),\n",
       " ('Hamster', 10.1),\n",
       " ('Parrot', 25)]"
      ]
     },
     "execution_count": 23,
     "metadata": {},
     "output_type": "execute_result"
    }
   ],
   "source": [
    "#calculalte cost per QUANTITY grouping by kind of the animal\n",
    "sql_i(\"SELECT ANIMAL, sum(COST)/ sum(QUANTITY ) FROM PETRESCUE group by ANIMAL\")"
   ]
  },
  {
   "cell_type": "code",
   "execution_count": 16,
   "id": "e1e4c3bd",
   "metadata": {},
   "outputs": [
    {
     "data": {
      "text/plain": [
       "[('Dog', 266.15749999999997)]"
      ]
     },
     "execution_count": 16,
     "metadata": {},
     "output_type": "execute_result"
    }
   ],
   "source": [
    "# Enter a function that displays the average cost of rescuing a dog.\n",
    "sql_i(\"SELECT ANIMAL,AVG(COST)FROM PETRESCUE where ANIMAL='Dog'\")"
   ]
  },
  {
   "cell_type": "code",
   "execution_count": 17,
   "id": "f2ce9074",
   "metadata": {},
   "outputs": [
    {
     "data": {
      "text/plain": [
       "[('Dog', 266.15749999999997)]"
      ]
     },
     "execution_count": 17,
     "metadata": {},
     "output_type": "execute_result"
    }
   ],
   "source": [
    "sql_i(\"SELECT ANIMAL,AVG(COST)FROM PETRESCUE where lower(ANIMAL)='dog'\")"
   ]
  },
  {
   "cell_type": "code",
   "execution_count": 19,
   "id": "d6cd6a09",
   "metadata": {},
   "outputs": [
    {
     "data": {
      "text/plain": [
       "[('Cat', 450.0),\n",
       " ('Dog', 667.0),\n",
       " ('Dog', 100.0),\n",
       " ('Parrot', 50.0),\n",
       " ('Dog', 76.0),\n",
       " ('Hamster', 61.0),\n",
       " ('Cat', 44.0),\n",
       " ('Goldfish', 48.0),\n",
       " ('Dog', 222.0)]"
      ]
     },
     "execution_count": 19,
     "metadata": {},
     "output_type": "execute_result"
    }
   ],
   "source": [
    "#Enter a function that displays the rounded cost of each rescue by using function ROUND()\n",
    "sql_i(\"SELECT animal,ROUND(COST)FROM PETRESCUE\")"
   ]
  },
  {
   "cell_type": "code",
   "execution_count": 24,
   "id": "779397dc",
   "metadata": {},
   "outputs": [
    {
     "data": {
      "text/plain": [
       "[('Cat', 3),\n",
       " ('Dog', 3),\n",
       " ('Dog', 3),\n",
       " ('Parrot', 6),\n",
       " ('Dog', 3),\n",
       " ('Hamster', 7),\n",
       " ('Cat', 3),\n",
       " ('Goldfish', 8),\n",
       " ('Dog', 3)]"
      ]
     },
     "execution_count": 24,
     "metadata": {},
     "output_type": "execute_result"
    }
   ],
   "source": [
    "#Enter a function that displays the length of each animal name\n",
    "sql_i(\"SELECT animal,LENGTH(animal)FROM PETRESCUE\")"
   ]
  },
  {
   "cell_type": "code",
   "execution_count": 25,
   "id": "67fb1ac5",
   "metadata": {},
   "outputs": [
    {
     "data": {
      "text/plain": [
       "[('CAT',),\n",
       " ('DOG',),\n",
       " ('DOG',),\n",
       " ('PARROT',),\n",
       " ('DOG',),\n",
       " ('HAMSTER',),\n",
       " ('CAT',),\n",
       " ('GOLDFISH',),\n",
       " ('DOG',)]"
      ]
     },
     "execution_count": 25,
     "metadata": {},
     "output_type": "execute_result"
    }
   ],
   "source": [
    "#Enter a function that displays the animal name in each rescue in uppercase\n",
    "sql_i(\"SELECT UPPER(animal)FROM PETRESCUE\")"
   ]
  },
  {
   "cell_type": "code",
   "execution_count": 27,
   "id": "5ab8d6ae",
   "metadata": {},
   "outputs": [
    {
     "data": {
      "text/plain": [
       "[('CAT',), ('DOG',), ('PARROT',), ('HAMSTER',), ('GOLDFISH',)]"
      ]
     },
     "execution_count": 27,
     "metadata": {},
     "output_type": "execute_result"
    }
   ],
   "source": [
    "#Enter a function that displays the animal name in each rescue in uppercase without duplications\n",
    "sql_i(\"SELECT DISTINCT(UPPER(animal)) FROM PETRESCUE\")"
   ]
  },
  {
   "cell_type": "code",
   "execution_count": 28,
   "id": "ee91e0e2",
   "metadata": {},
   "outputs": [
    {
     "data": {
      "text/plain": [
       "[(1, 'Cat', 9, 450.09, '2018-05-29'), (7, 'Cat', 1, 44.44, '2018-06-11')]"
      ]
     },
     "execution_count": 28,
     "metadata": {},
     "output_type": "execute_result"
    }
   ],
   "source": [
    "#Enter a query that displays all the columns from the PETRESCUE table, where the animal(s) rescued are cats.\n",
    "#Use cat in lower case in the query.\n",
    "sql_i(\"select * from PETRESCUE where LOWER(animal)='cat' \")"
   ]
  },
  {
   "cell_type": "code",
   "execution_count": null,
   "id": "302f2c36",
   "metadata": {},
   "outputs": [],
   "source": []
  }
 ],
 "metadata": {
  "kernelspec": {
   "display_name": "Python 3 (ipykernel)",
   "language": "python",
   "name": "python3"
  },
  "language_info": {
   "codemirror_mode": {
    "name": "ipython",
    "version": 3
   },
   "file_extension": ".py",
   "mimetype": "text/x-python",
   "name": "python",
   "nbconvert_exporter": "python",
   "pygments_lexer": "ipython3",
   "version": "3.9.13"
  }
 },
 "nbformat": 4,
 "nbformat_minor": 5
}
