{
 "cells": [
  {
   "cell_type": "code",
   "execution_count": 1,
   "id": "ce183505",
   "metadata": {},
   "outputs": [],
   "source": [
    "import sqlite3\n",
    "\n",
    "def sql_i(instruction,data_b=\"data2.db\"):\n",
    "    conn=sqlite3.connect(data_b)\n",
    "    cur=conn.cursor()\n",
    "    cur.execute(instruction)\n",
    "    if \"select\" in instruction.lower() or \"pragma\" in instruction.lower():\n",
    "        rows=cur.fetchall()\n",
    "        conn.close()\n",
    "        return(rows)\n",
    "    else:\n",
    "        conn.commit()  \n",
    "        conn.close()"
   ]
  },
  {
   "cell_type": "code",
   "execution_count": 2,
   "id": "64ddf237",
   "metadata": {},
   "outputs": [],
   "source": [
    "sql_i('''\n",
    "create table PETRESCUE (\n",
    "\tID INTEGER NOT NULL,\n",
    "\tANIMAL VARCHAR(20),\n",
    "\tQUANTITY INTEGER,\n",
    "\tCOST DECIMAL(6,2),\n",
    "\tRESCUEDATE DATE,\n",
    "\tPRIMARY KEY (ID)\n",
    "\t)\n",
    "''')"
   ]
  },
  {
   "cell_type": "code",
   "execution_count": 3,
   "id": "c856f8c0",
   "metadata": {},
   "outputs": [],
   "source": [
    "sql_i('''\n",
    "insert into PETRESCUE values \n",
    "\t(1,'Cat',9,450.09,'2018-05-29'),\n",
    "\t(2,'Dog',3,666.66,'2018-06-01'),\n",
    "\t(3,'Dog',1,100.00,'2018-06-04'),\n",
    "\t(4,'Parrot',2,50.00,'2018-06-04'),\n",
    "\t(5,'Dog',1,75.75,'2018-06-10'),\n",
    "\t(6,'Hamster',6,60.60,'2018-06-11'),\n",
    "\t(7,'Cat',1,44.44,'2018-06-11'),\n",
    "\t(8,'Goldfish',24,48.48,'2018-06-14'),\n",
    "\t(9,'Dog',2,222.22,'2018-06-15')\n",
    "''')"
   ]
  },
  {
   "cell_type": "code",
   "execution_count": 4,
   "id": "d652ce6a",
   "metadata": {},
   "outputs": [
    {
     "data": {
      "text/plain": [
       "['ID', 'ANIMAL', 'QUANTITY', 'COST', 'RESCUEDATE']"
      ]
     },
     "execution_count": 4,
     "metadata": {},
     "output_type": "execute_result"
    }
   ],
   "source": [
    "\n",
    "head=[]\n",
    "columns=sql_i(\"PRAGMA table_info('PETRESCUE')\")\n",
    "for name in columns:\n",
    "    head.append(name[1])\n",
    "head"
   ]
  },
  {
   "cell_type": "code",
   "execution_count": 5,
   "id": "9c4ba195",
   "metadata": {},
   "outputs": [
    {
     "data": {
      "text/html": [
       "<div>\n",
       "<style scoped>\n",
       "    .dataframe tbody tr th:only-of-type {\n",
       "        vertical-align: middle;\n",
       "    }\n",
       "\n",
       "    .dataframe tbody tr th {\n",
       "        vertical-align: top;\n",
       "    }\n",
       "\n",
       "    .dataframe thead th {\n",
       "        text-align: right;\n",
       "    }\n",
       "</style>\n",
       "<table border=\"1\" class=\"dataframe\">\n",
       "  <thead>\n",
       "    <tr style=\"text-align: right;\">\n",
       "      <th></th>\n",
       "      <th>ID</th>\n",
       "      <th>ANIMAL</th>\n",
       "      <th>QUANTITY</th>\n",
       "      <th>COST</th>\n",
       "      <th>RESCUEDATE</th>\n",
       "    </tr>\n",
       "  </thead>\n",
       "  <tbody>\n",
       "    <tr>\n",
       "      <th>0</th>\n",
       "      <td>1</td>\n",
       "      <td>Cat</td>\n",
       "      <td>9</td>\n",
       "      <td>450.09</td>\n",
       "      <td>2018-05-29</td>\n",
       "    </tr>\n",
       "    <tr>\n",
       "      <th>1</th>\n",
       "      <td>2</td>\n",
       "      <td>Dog</td>\n",
       "      <td>3</td>\n",
       "      <td>666.66</td>\n",
       "      <td>2018-06-01</td>\n",
       "    </tr>\n",
       "    <tr>\n",
       "      <th>2</th>\n",
       "      <td>3</td>\n",
       "      <td>Dog</td>\n",
       "      <td>1</td>\n",
       "      <td>100.00</td>\n",
       "      <td>2018-06-04</td>\n",
       "    </tr>\n",
       "    <tr>\n",
       "      <th>3</th>\n",
       "      <td>4</td>\n",
       "      <td>Parrot</td>\n",
       "      <td>2</td>\n",
       "      <td>50.00</td>\n",
       "      <td>2018-06-04</td>\n",
       "    </tr>\n",
       "    <tr>\n",
       "      <th>4</th>\n",
       "      <td>5</td>\n",
       "      <td>Dog</td>\n",
       "      <td>1</td>\n",
       "      <td>75.75</td>\n",
       "      <td>2018-06-10</td>\n",
       "    </tr>\n",
       "    <tr>\n",
       "      <th>5</th>\n",
       "      <td>6</td>\n",
       "      <td>Hamster</td>\n",
       "      <td>6</td>\n",
       "      <td>60.60</td>\n",
       "      <td>2018-06-11</td>\n",
       "    </tr>\n",
       "    <tr>\n",
       "      <th>6</th>\n",
       "      <td>7</td>\n",
       "      <td>Cat</td>\n",
       "      <td>1</td>\n",
       "      <td>44.44</td>\n",
       "      <td>2018-06-11</td>\n",
       "    </tr>\n",
       "    <tr>\n",
       "      <th>7</th>\n",
       "      <td>8</td>\n",
       "      <td>Goldfish</td>\n",
       "      <td>24</td>\n",
       "      <td>48.48</td>\n",
       "      <td>2018-06-14</td>\n",
       "    </tr>\n",
       "    <tr>\n",
       "      <th>8</th>\n",
       "      <td>9</td>\n",
       "      <td>Dog</td>\n",
       "      <td>2</td>\n",
       "      <td>222.22</td>\n",
       "      <td>2018-06-15</td>\n",
       "    </tr>\n",
       "  </tbody>\n",
       "</table>\n",
       "</div>"
      ],
      "text/plain": [
       "   ID    ANIMAL  QUANTITY    COST  RESCUEDATE\n",
       "0   1       Cat         9  450.09  2018-05-29\n",
       "1   2       Dog         3  666.66  2018-06-01\n",
       "2   3       Dog         1  100.00  2018-06-04\n",
       "3   4    Parrot         2   50.00  2018-06-04\n",
       "4   5       Dog         1   75.75  2018-06-10\n",
       "5   6   Hamster         6   60.60  2018-06-11\n",
       "6   7       Cat         1   44.44  2018-06-11\n",
       "7   8  Goldfish        24   48.48  2018-06-14\n",
       "8   9       Dog         2  222.22  2018-06-15"
      ]
     },
     "execution_count": 5,
     "metadata": {},
     "output_type": "execute_result"
    }
   ],
   "source": [
    "import pandas as pd\n",
    "PETRESCUE=sql_i(\"select * from PETRESCUE\")\n",
    "PETRESCUE=pd.DataFrame(PETRESCUE,columns=head)\n",
    "PETRESCUE"
   ]
  },
  {
   "cell_type": "markdown",
   "id": "a7d59d78",
   "metadata": {},
   "source": [
    "# why used nesed select?!!!"
   ]
  },
  {
   "cell_type": "code",
   "execution_count": 6,
   "id": "e39d839a",
   "metadata": {},
   "outputs": [
    {
     "ename": "OperationalError",
     "evalue": "misuse of aggregate function avg()",
     "output_type": "error",
     "traceback": [
      "\u001b[1;31m---------------------------------------------------------------------------\u001b[0m",
      "\u001b[1;31mOperationalError\u001b[0m                          Traceback (most recent call last)",
      "\u001b[1;32m~\\AppData\\Local\\Temp\\ipykernel_13040\\374398536.py\u001b[0m in \u001b[0;36m<module>\u001b[1;34m\u001b[0m\n\u001b[1;32m----> 1\u001b[1;33m \u001b[0msql_i\u001b[0m\u001b[1;33m(\u001b[0m\u001b[1;34m\"select * from PETRESCUE where  COST > avg(cost)\"\u001b[0m\u001b[1;33m)\u001b[0m\u001b[1;33m\u001b[0m\u001b[1;33m\u001b[0m\u001b[0m\n\u001b[0m",
      "\u001b[1;32m~\\AppData\\Local\\Temp\\ipykernel_13040\\834279240.py\u001b[0m in \u001b[0;36msql_i\u001b[1;34m(instruction, data_b)\u001b[0m\n\u001b[0;32m      4\u001b[0m     \u001b[0mconn\u001b[0m\u001b[1;33m=\u001b[0m\u001b[0msqlite3\u001b[0m\u001b[1;33m.\u001b[0m\u001b[0mconnect\u001b[0m\u001b[1;33m(\u001b[0m\u001b[0mdata_b\u001b[0m\u001b[1;33m)\u001b[0m\u001b[1;33m\u001b[0m\u001b[1;33m\u001b[0m\u001b[0m\n\u001b[0;32m      5\u001b[0m     \u001b[0mcur\u001b[0m\u001b[1;33m=\u001b[0m\u001b[0mconn\u001b[0m\u001b[1;33m.\u001b[0m\u001b[0mcursor\u001b[0m\u001b[1;33m(\u001b[0m\u001b[1;33m)\u001b[0m\u001b[1;33m\u001b[0m\u001b[1;33m\u001b[0m\u001b[0m\n\u001b[1;32m----> 6\u001b[1;33m     \u001b[0mcur\u001b[0m\u001b[1;33m.\u001b[0m\u001b[0mexecute\u001b[0m\u001b[1;33m(\u001b[0m\u001b[0minstruction\u001b[0m\u001b[1;33m)\u001b[0m\u001b[1;33m\u001b[0m\u001b[1;33m\u001b[0m\u001b[0m\n\u001b[0m\u001b[0;32m      7\u001b[0m     \u001b[1;32mif\u001b[0m \u001b[1;34m\"select\"\u001b[0m \u001b[1;32min\u001b[0m \u001b[0minstruction\u001b[0m\u001b[1;33m.\u001b[0m\u001b[0mlower\u001b[0m\u001b[1;33m(\u001b[0m\u001b[1;33m)\u001b[0m \u001b[1;32mor\u001b[0m \u001b[1;34m\"pragma\"\u001b[0m \u001b[1;32min\u001b[0m \u001b[0minstruction\u001b[0m\u001b[1;33m.\u001b[0m\u001b[0mlower\u001b[0m\u001b[1;33m(\u001b[0m\u001b[1;33m)\u001b[0m\u001b[1;33m:\u001b[0m\u001b[1;33m\u001b[0m\u001b[1;33m\u001b[0m\u001b[0m\n\u001b[0;32m      8\u001b[0m         \u001b[0mrows\u001b[0m\u001b[1;33m=\u001b[0m\u001b[0mcur\u001b[0m\u001b[1;33m.\u001b[0m\u001b[0mfetchall\u001b[0m\u001b[1;33m(\u001b[0m\u001b[1;33m)\u001b[0m\u001b[1;33m\u001b[0m\u001b[1;33m\u001b[0m\u001b[0m\n",
      "\u001b[1;31mOperationalError\u001b[0m: misuse of aggregate function avg()"
     ]
    }
   ],
   "source": [
    "sql_i(\"select * from PETRESCUE where  COST > avg(cost)\")"
   ]
  },
  {
   "cell_type": "markdown",
   "id": "910a3862",
   "metadata": {},
   "source": [
    "## you can't use  max ,min,count,sum,avg after where\n",
    "## to solve this problem you are going to use sub-select"
   ]
  },
  {
   "cell_type": "code",
   "execution_count": 8,
   "id": "9bd59668",
   "metadata": {},
   "outputs": [
    {
     "data": {
      "text/plain": [
       "[(190.91555555555556,)]"
      ]
     },
     "execution_count": 8,
     "metadata": {},
     "output_type": "execute_result"
    }
   ],
   "source": [
    "sql_i('select avg(cost) from PETRESCUE') "
   ]
  },
  {
   "cell_type": "code",
   "execution_count": 9,
   "id": "c1ebf82f",
   "metadata": {},
   "outputs": [
    {
     "data": {
      "text/plain": [
       "[(1, 'Cat', 9, 450.09, '2018-05-29'),\n",
       " (2, 'Dog', 3, 666.66, '2018-06-01'),\n",
       " (9, 'Dog', 2, 222.22, '2018-06-15')]"
      ]
     },
     "execution_count": 9,
     "metadata": {},
     "output_type": "execute_result"
    }
   ],
   "source": [
    "sql_i(\"select * from PETRESCUE where cost > 190.915\")"
   ]
  },
  {
   "cell_type": "code",
   "execution_count": 11,
   "id": "16b7e202",
   "metadata": {},
   "outputs": [
    {
     "data": {
      "text/plain": [
       "[(1, 'Cat', 9, 450.09, '2018-05-29'),\n",
       " (2, 'Dog', 3, 666.66, '2018-06-01'),\n",
       " (9, 'Dog', 2, 222.22, '2018-06-15')]"
      ]
     },
     "execution_count": 11,
     "metadata": {},
     "output_type": "execute_result"
    }
   ],
   "source": [
    "#use (\"select avg(cost) from PETRESCUE\")  as a sub select \n",
    "sql_i(\"select * from PETRESCUE where cost > (select avg(cost) from PETRESCUE)\")"
   ]
  },
  {
   "cell_type": "code",
   "execution_count": null,
   "id": "0925d019",
   "metadata": {},
   "outputs": [],
   "source": []
  }
 ],
 "metadata": {
  "kernelspec": {
   "display_name": "Python 3 (ipykernel)",
   "language": "python",
   "name": "python3"
  },
  "language_info": {
   "codemirror_mode": {
    "name": "ipython",
    "version": 3
   },
   "file_extension": ".py",
   "mimetype": "text/x-python",
   "name": "python",
   "nbconvert_exporter": "python",
   "pygments_lexer": "ipython3",
   "version": "3.9.13"
  }
 },
 "nbformat": 4,
 "nbformat_minor": 5
}
