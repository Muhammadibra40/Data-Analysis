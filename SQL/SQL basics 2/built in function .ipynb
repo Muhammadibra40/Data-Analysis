{
 "cells": [
  {
   "cell_type": "code",
   "execution_count": 2,
   "id": "ce183505",
   "metadata": {},
   "outputs": [],
   "source": [
    "import sqlite3\n",
    "\n",
    "def sql_i(instruction,data_b=\"data.db\"):\n",
    "    conn=sqlite3.connect(data_b)\n",
    "    cur=conn.cursor()\n",
    "    cur.execute(instruction)\n",
    "    if \"select\" in instruction.lower() or \"pragma\" in instruction.lower():\n",
    "        rows=cur.fetchall()\n",
    "        conn.close()\n",
    "        return(rows)\n",
    "    else:\n",
    "        conn.commit()  \n",
    "        conn.close()"
   ]
  },
  {
   "cell_type": "code",
   "execution_count": 3,
   "id": "64ddf237",
   "metadata": {},
   "outputs": [],
   "source": [
    "sql_i('''\n",
    "create table PETRESCUE (\n",
    "\tID INTEGER NOT NULL,\n",
    "\tANIMAL VARCHAR(20),\n",
    "\tQUANTITY INTEGER,\n",
    "\tCOST DECIMAL(6,2),\n",
    "\tRESCUEDATE DATE,\n",
    "\tPRIMARY KEY (ID)\n",
    "\t)\n",
    "''')"
   ]
  },
  {
   "cell_type": "markdown",
   "id": "d743e7d3",
   "metadata": {},
   "source": [
    "# how to add columns names using tabulate function ?"
   ]
  },
  {
   "cell_type": "code",
   "execution_count": 4,
   "id": "d652ce6a",
   "metadata": {},
   "outputs": [
    {
     "data": {
      "text/plain": [
       "['ID', 'ANIMAL', 'QUANTITY', 'COST', 'RESCUEDATE']"
      ]
     },
     "execution_count": 4,
     "metadata": {},
     "output_type": "execute_result"
    }
   ],
   "source": [
    "\n",
    "head=[]\n",
    "columns=sql_i(\"PRAGMA table_info('PETRESCUE')\")\n",
    "for name in columns:\n",
    "     head.append(name[1])\n",
    "head"
   ]
  },
  {
   "cell_type": "code",
   "execution_count": 5,
   "id": "c856f8c0",
   "metadata": {},
   "outputs": [],
   "source": [
    "sql_i('''\n",
    "insert into PETRESCUE values \n",
    "\t(1,'Cat',9,450.09,'2018-05-29'),\n",
    "\t(2,'Dog',3,666.66,'2018-06-01'),\n",
    "\t(3,'Dog',1,100.00,'2018-06-04'),\n",
    "\t(4,'Parrot',2,50.00,'2018-06-04'),\n",
    "\t(5,'Dog',1,75.75,'2018-06-10'),\n",
    "\t(6,'Hamster',6,60.60,'2018-06-11'),\n",
    "\t(7,'Cat',1,44.44,'2018-06-11'),\n",
    "\t(8,'Goldfish',24,48.48,'2018-06-14'),\n",
    "\t(9,'Dog',2,222.22,'2018-06-15')\n",
    "''')"
   ]
  },
  {
   "cell_type": "code",
   "execution_count": 6,
   "id": "9c4ba195",
   "metadata": {},
   "outputs": [
    {
     "data": {
      "text/html": [
       "<div>\n",
       "<style scoped>\n",
       "    .dataframe tbody tr th:only-of-type {\n",
       "        vertical-align: middle;\n",
       "    }\n",
       "\n",
       "    .dataframe tbody tr th {\n",
       "        vertical-align: top;\n",
       "    }\n",
       "\n",
       "    .dataframe thead th {\n",
       "        text-align: right;\n",
       "    }\n",
       "</style>\n",
       "<table border=\"1\" class=\"dataframe\">\n",
       "  <thead>\n",
       "    <tr style=\"text-align: right;\">\n",
       "      <th></th>\n",
       "      <th>ID</th>\n",
       "      <th>ANIMAL</th>\n",
       "      <th>QUANTITY</th>\n",
       "      <th>COST</th>\n",
       "      <th>RESCUEDATE</th>\n",
       "    </tr>\n",
       "  </thead>\n",
       "  <tbody>\n",
       "    <tr>\n",
       "      <th>0</th>\n",
       "      <td>1</td>\n",
       "      <td>Cat</td>\n",
       "      <td>9</td>\n",
       "      <td>450.09</td>\n",
       "      <td>2018-05-29</td>\n",
       "    </tr>\n",
       "    <tr>\n",
       "      <th>1</th>\n",
       "      <td>2</td>\n",
       "      <td>Dog</td>\n",
       "      <td>3</td>\n",
       "      <td>666.66</td>\n",
       "      <td>2018-06-01</td>\n",
       "    </tr>\n",
       "    <tr>\n",
       "      <th>2</th>\n",
       "      <td>3</td>\n",
       "      <td>Dog</td>\n",
       "      <td>1</td>\n",
       "      <td>100.00</td>\n",
       "      <td>2018-06-04</td>\n",
       "    </tr>\n",
       "    <tr>\n",
       "      <th>3</th>\n",
       "      <td>4</td>\n",
       "      <td>Parrot</td>\n",
       "      <td>2</td>\n",
       "      <td>50.00</td>\n",
       "      <td>2018-06-04</td>\n",
       "    </tr>\n",
       "    <tr>\n",
       "      <th>4</th>\n",
       "      <td>5</td>\n",
       "      <td>Dog</td>\n",
       "      <td>1</td>\n",
       "      <td>75.75</td>\n",
       "      <td>2018-06-10</td>\n",
       "    </tr>\n",
       "    <tr>\n",
       "      <th>5</th>\n",
       "      <td>6</td>\n",
       "      <td>Hamster</td>\n",
       "      <td>6</td>\n",
       "      <td>60.60</td>\n",
       "      <td>2018-06-11</td>\n",
       "    </tr>\n",
       "    <tr>\n",
       "      <th>6</th>\n",
       "      <td>7</td>\n",
       "      <td>Cat</td>\n",
       "      <td>1</td>\n",
       "      <td>44.44</td>\n",
       "      <td>2018-06-11</td>\n",
       "    </tr>\n",
       "    <tr>\n",
       "      <th>7</th>\n",
       "      <td>8</td>\n",
       "      <td>Goldfish</td>\n",
       "      <td>24</td>\n",
       "      <td>48.48</td>\n",
       "      <td>2018-06-14</td>\n",
       "    </tr>\n",
       "    <tr>\n",
       "      <th>8</th>\n",
       "      <td>9</td>\n",
       "      <td>Dog</td>\n",
       "      <td>2</td>\n",
       "      <td>222.22</td>\n",
       "      <td>2018-06-15</td>\n",
       "    </tr>\n",
       "  </tbody>\n",
       "</table>\n",
       "</div>"
      ],
      "text/plain": [
       "   ID    ANIMAL  QUANTITY    COST  RESCUEDATE\n",
       "0   1       Cat         9  450.09  2018-05-29\n",
       "1   2       Dog         3  666.66  2018-06-01\n",
       "2   3       Dog         1  100.00  2018-06-04\n",
       "3   4    Parrot         2   50.00  2018-06-04\n",
       "4   5       Dog         1   75.75  2018-06-10\n",
       "5   6   Hamster         6   60.60  2018-06-11\n",
       "6   7       Cat         1   44.44  2018-06-11\n",
       "7   8  Goldfish        24   48.48  2018-06-14\n",
       "8   9       Dog         2  222.22  2018-06-15"
      ]
     },
     "execution_count": 6,
     "metadata": {},
     "output_type": "execute_result"
    }
   ],
   "source": [
    "import pandas as pd\n",
    "PETRESCUE=sql_i(\"select * from PETRESCUE\")\n",
    "PETRESCUE=pd.DataFrame(PETRESCUE,columns=head)\n",
    "PETRESCUE"
   ]
  },
  {
   "cell_type": "markdown",
   "id": "441d9247",
   "metadata": {},
   "source": [
    "# TASK 1:"
   ]
  },
  {
   "cell_type": "code",
   "execution_count": null,
   "id": "3f37f71f",
   "metadata": {},
   "outputs": [],
   "source": [
    "#Enter a function that calculates the total cost of all animal rescues in the PETRESCUE table\n"
   ]
  },
  {
   "cell_type": "code",
   "execution_count": null,
   "id": "209b0520",
   "metadata": {},
   "outputs": [],
   "source": [
    "#Enter a function that calculates the total cost for  animals with respect to kind in the PETRESCUE table\n"
   ]
  },
  {
   "cell_type": "code",
   "execution_count": null,
   "id": "c531df87",
   "metadata": {},
   "outputs": [],
   "source": [
    "#Enter a function that displays the maximum quantity of animals rescued\n"
   ]
  },
  {
   "cell_type": "code",
   "execution_count": null,
   "id": "81ff65e0",
   "metadata": {},
   "outputs": [],
   "source": [
    "#Enter a function that displays the average cost of animals rescued\n"
   ]
  },
  {
   "cell_type": "code",
   "execution_count": null,
   "id": "a50273fd",
   "metadata": {},
   "outputs": [],
   "source": [
    "#Enter a function that calculates the average cost for animals with respect to kind in the PETRESCUE table\n"
   ]
  },
  {
   "cell_type": "code",
   "execution_count": null,
   "id": "e5302d77",
   "metadata": {},
   "outputs": [],
   "source": [
    "#calculalte cost per QUANTITY \n"
   ]
  },
  {
   "cell_type": "code",
   "execution_count": null,
   "id": "e1e4c3bd",
   "metadata": {},
   "outputs": [],
   "source": [
    "# Enter a function that displays the average cost of rescuing a dog.\n"
   ]
  },
  {
   "cell_type": "code",
   "execution_count": null,
   "id": "a17fbfde",
   "metadata": {},
   "outputs": [],
   "source": [
    "#calculalte cost per QUANTITY grouping by kind of the animal\n"
   ]
  },
  {
   "cell_type": "code",
   "execution_count": null,
   "id": "d6cd6a09",
   "metadata": {},
   "outputs": [],
   "source": [
    "#Enter a function that displays the rounded cost of each rescue by using function ROUND()\n"
   ]
  },
  {
   "cell_type": "code",
   "execution_count": null,
   "id": "779397dc",
   "metadata": {},
   "outputs": [],
   "source": [
    "#Enter a function that displays the length of each animal name\n"
   ]
  },
  {
   "cell_type": "code",
   "execution_count": null,
   "id": "67fb1ac5",
   "metadata": {},
   "outputs": [],
   "source": [
    "#Enter a function that displays the animal name in each rescue in uppercase\n"
   ]
  },
  {
   "cell_type": "code",
   "execution_count": null,
   "id": "5ab8d6ae",
   "metadata": {},
   "outputs": [],
   "source": [
    "#Enter a function that displays the animal name in each rescue in uppercase without duplications\n"
   ]
  },
  {
   "cell_type": "code",
   "execution_count": null,
   "id": "ee91e0e2",
   "metadata": {},
   "outputs": [],
   "source": [
    "#Enter a query that displays all the columns from the PETRESCUE table, where the animal(s) rescued are cats.\n",
    "#Use cat in lower case in the query.\n"
   ]
  },
  {
   "cell_type": "code",
   "execution_count": null,
   "id": "302f2c36",
   "metadata": {},
   "outputs": [],
   "source": []
  }
 ],
 "metadata": {
  "kernelspec": {
   "display_name": "Python 3 (ipykernel)",
   "language": "python",
   "name": "python3"
  },
  "language_info": {
   "codemirror_mode": {
    "name": "ipython",
    "version": 3
   },
   "file_extension": ".py",
   "mimetype": "text/x-python",
   "name": "python",
   "nbconvert_exporter": "python",
   "pygments_lexer": "ipython3",
   "version": "3.9.13"
  }
 },
 "nbformat": 4,
 "nbformat_minor": 5
}
